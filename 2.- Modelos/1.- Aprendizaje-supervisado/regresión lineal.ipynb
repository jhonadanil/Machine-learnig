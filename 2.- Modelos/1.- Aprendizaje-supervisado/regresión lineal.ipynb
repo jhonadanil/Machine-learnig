{
 "cells": [
  {
   "cell_type": "markdown",
   "id": "3735cc06",
   "metadata": {},
   "source": [
    "#### Primero importamos las librerias necesarias"
   ]
  },
  {
   "cell_type": "code",
   "execution_count": 1,
   "id": "e975f2f6",
   "metadata": {},
   "outputs": [],
   "source": [
    "# Para convertirlo en un df\n",
    "import pandas as pd\n",
    "# Para cálculos numericos\n",
    "import numpy as np\n",
    "# Para graficar\n",
    "import matplotlib.pyplot as plt\n",
    "import seaborn as sns\n",
    "# Para normalizar los datos\n",
    "from sklearn.preprocessing import MinMaxScaler"
   ]
  },
  {
   "cell_type": "markdown",
   "id": "33dcbe76",
   "metadata": {},
   "source": [
    "## ***1.- Recopilación de Datos***"
   ]
  },
  {
   "cell_type": "markdown",
   "id": "9294a0a6",
   "metadata": {},
   "source": [
    "Este conjunto de datos se encuentra en esta pagina:\n",
    "https://www.kaggle.com/datasets/camnugent/california-housing-prices\n",
    "\n",
    "Es importante mirarlo para entenderlo mejor"
   ]
  },
  {
   "cell_type": "code",
   "execution_count": 2,
   "id": "e5d77b5e",
   "metadata": {},
   "outputs": [],
   "source": [
    "# Vamos a leer estos datos para entenderlo mejor\n",
    "df = pd.read_csv('../../3.- Datasets\\housing.csv')"
   ]
  },
  {
   "cell_type": "code",
   "execution_count": 3,
   "id": "610b30cb",
   "metadata": {},
   "outputs": [],
   "source": [
    "df2 = df.copy()"
   ]
  },
  {
   "cell_type": "markdown",
   "id": "4ccb1ff3",
   "metadata": {},
   "source": [
    "#### Vamos a añadir algunas imperfecciones a nuestro codigo para mas adelante"
   ]
  },
  {
   "cell_type": "code",
   "execution_count": 4,
   "id": "8aa65a81",
   "metadata": {},
   "outputs": [],
   "source": [
    "# Establecer algunas entradas como nulas de manera aleatoria\n",
    "filas_a_modificar = np.random.choice(df.index, size=3, replace=False)\n",
    "columnas_a_modificar = np.random.choice(df.columns, size=3, replace=False)\n",
    "\n",
    "df.loc[filas_a_modificar, columnas_a_modificar] = np.nan"
   ]
  },
  {
   "cell_type": "code",
   "execution_count": 5,
   "id": "720367c6",
   "metadata": {},
   "outputs": [],
   "source": [
    "# Establecer algunas entradas como nulas de manera aleatoria\n",
    "filas_a_modificar = np.random.choice(df.index, size=3, replace=False)\n",
    "columnas_a_modificar = np.random.choice(df.columns, size=3, replace=False)\n",
    "\n",
    "df.loc[filas_a_modificar, columnas_a_modificar] = np.nan"
   ]
  },
  {
   "cell_type": "markdown",
   "id": "dd71d3b5",
   "metadata": {},
   "source": [
    "## **2.- Exploración y Análisis de Datos**"
   ]
  },
  {
   "cell_type": "code",
   "execution_count": 6,
   "id": "bba4fc4b",
   "metadata": {},
   "outputs": [
    {
     "data": {
      "text/html": [
       "<div>\n",
       "<style scoped>\n",
       "    .dataframe tbody tr th:only-of-type {\n",
       "        vertical-align: middle;\n",
       "    }\n",
       "\n",
       "    .dataframe tbody tr th {\n",
       "        vertical-align: top;\n",
       "    }\n",
       "\n",
       "    .dataframe thead th {\n",
       "        text-align: right;\n",
       "    }\n",
       "</style>\n",
       "<table border=\"1\" class=\"dataframe\">\n",
       "  <thead>\n",
       "    <tr style=\"text-align: right;\">\n",
       "      <th></th>\n",
       "      <th>longitude</th>\n",
       "      <th>latitude</th>\n",
       "      <th>housing_median_age</th>\n",
       "      <th>total_rooms</th>\n",
       "      <th>total_bedrooms</th>\n",
       "      <th>population</th>\n",
       "      <th>households</th>\n",
       "      <th>median_income</th>\n",
       "      <th>median_house_value</th>\n",
       "      <th>ocean_proximity</th>\n",
       "    </tr>\n",
       "  </thead>\n",
       "  <tbody>\n",
       "    <tr>\n",
       "      <th>0</th>\n",
       "      <td>-122.23</td>\n",
       "      <td>37.88</td>\n",
       "      <td>41.0</td>\n",
       "      <td>880.0</td>\n",
       "      <td>129.0</td>\n",
       "      <td>322.0</td>\n",
       "      <td>126.0</td>\n",
       "      <td>8.3252</td>\n",
       "      <td>452600.0</td>\n",
       "      <td>NEAR BAY</td>\n",
       "    </tr>\n",
       "    <tr>\n",
       "      <th>1</th>\n",
       "      <td>-122.22</td>\n",
       "      <td>37.86</td>\n",
       "      <td>21.0</td>\n",
       "      <td>7099.0</td>\n",
       "      <td>1106.0</td>\n",
       "      <td>2401.0</td>\n",
       "      <td>1138.0</td>\n",
       "      <td>8.3014</td>\n",
       "      <td>358500.0</td>\n",
       "      <td>NEAR BAY</td>\n",
       "    </tr>\n",
       "    <tr>\n",
       "      <th>2</th>\n",
       "      <td>-122.24</td>\n",
       "      <td>37.85</td>\n",
       "      <td>52.0</td>\n",
       "      <td>1467.0</td>\n",
       "      <td>190.0</td>\n",
       "      <td>496.0</td>\n",
       "      <td>177.0</td>\n",
       "      <td>7.2574</td>\n",
       "      <td>352100.0</td>\n",
       "      <td>NEAR BAY</td>\n",
       "    </tr>\n",
       "    <tr>\n",
       "      <th>3</th>\n",
       "      <td>-122.25</td>\n",
       "      <td>37.85</td>\n",
       "      <td>52.0</td>\n",
       "      <td>1274.0</td>\n",
       "      <td>235.0</td>\n",
       "      <td>558.0</td>\n",
       "      <td>219.0</td>\n",
       "      <td>5.6431</td>\n",
       "      <td>341300.0</td>\n",
       "      <td>NEAR BAY</td>\n",
       "    </tr>\n",
       "    <tr>\n",
       "      <th>4</th>\n",
       "      <td>-122.25</td>\n",
       "      <td>37.85</td>\n",
       "      <td>52.0</td>\n",
       "      <td>1627.0</td>\n",
       "      <td>280.0</td>\n",
       "      <td>565.0</td>\n",
       "      <td>259.0</td>\n",
       "      <td>3.8462</td>\n",
       "      <td>342200.0</td>\n",
       "      <td>NEAR BAY</td>\n",
       "    </tr>\n",
       "  </tbody>\n",
       "</table>\n",
       "</div>"
      ],
      "text/plain": [
       "   longitude  latitude  housing_median_age  total_rooms  total_bedrooms  \\\n",
       "0    -122.23     37.88                41.0        880.0           129.0   \n",
       "1    -122.22     37.86                21.0       7099.0          1106.0   \n",
       "2    -122.24     37.85                52.0       1467.0           190.0   \n",
       "3    -122.25     37.85                52.0       1274.0           235.0   \n",
       "4    -122.25     37.85                52.0       1627.0           280.0   \n",
       "\n",
       "   population  households  median_income  median_house_value ocean_proximity  \n",
       "0       322.0       126.0         8.3252            452600.0        NEAR BAY  \n",
       "1      2401.0      1138.0         8.3014            358500.0        NEAR BAY  \n",
       "2       496.0       177.0         7.2574            352100.0        NEAR BAY  \n",
       "3       558.0       219.0         5.6431            341300.0        NEAR BAY  \n",
       "4       565.0       259.0         3.8462            342200.0        NEAR BAY  "
      ]
     },
     "execution_count": 6,
     "metadata": {},
     "output_type": "execute_result"
    }
   ],
   "source": [
    "# Mostramos las 5 primeras filas de mi df\n",
    "df.head()"
   ]
  },
  {
   "cell_type": "code",
   "execution_count": 7,
   "id": "85fdddaf",
   "metadata": {
    "scrolled": true
   },
   "outputs": [
    {
     "name": "stdout",
     "output_type": "stream",
     "text": [
      "<class 'pandas.core.frame.DataFrame'>\n",
      "RangeIndex: 20640 entries, 0 to 20639\n",
      "Data columns (total 10 columns):\n",
      " #   Column              Non-Null Count  Dtype  \n",
      "---  ------              --------------  -----  \n",
      " 0   longitude           20637 non-null  float64\n",
      " 1   latitude            20637 non-null  float64\n",
      " 2   housing_median_age  20637 non-null  float64\n",
      " 3   total_rooms         20640 non-null  float64\n",
      " 4   total_bedrooms      20430 non-null  float64\n",
      " 5   population          20637 non-null  float64\n",
      " 6   households          20640 non-null  float64\n",
      " 7   median_income       20640 non-null  float64\n",
      " 8   median_house_value  20637 non-null  float64\n",
      " 9   ocean_proximity     20640 non-null  object \n",
      "dtypes: float64(9), object(1)\n",
      "memory usage: 1.6+ MB\n"
     ]
    }
   ],
   "source": [
    "df.info()"
   ]
  },
  {
   "cell_type": "markdown",
   "id": "918db5c4",
   "metadata": {},
   "source": [
    "#### Aqui se ve que todas las columnas son de tipo numerico, menos la ultima que es una categoria"
   ]
  },
  {
   "cell_type": "code",
   "execution_count": 8,
   "id": "9c4f1fa0",
   "metadata": {},
   "outputs": [
    {
     "data": {
      "text/html": [
       "<div>\n",
       "<style scoped>\n",
       "    .dataframe tbody tr th:only-of-type {\n",
       "        vertical-align: middle;\n",
       "    }\n",
       "\n",
       "    .dataframe tbody tr th {\n",
       "        vertical-align: top;\n",
       "    }\n",
       "\n",
       "    .dataframe thead th {\n",
       "        text-align: right;\n",
       "    }\n",
       "</style>\n",
       "<table border=\"1\" class=\"dataframe\">\n",
       "  <thead>\n",
       "    <tr style=\"text-align: right;\">\n",
       "      <th></th>\n",
       "      <th>longitude</th>\n",
       "      <th>latitude</th>\n",
       "      <th>housing_median_age</th>\n",
       "      <th>total_rooms</th>\n",
       "      <th>total_bedrooms</th>\n",
       "      <th>population</th>\n",
       "      <th>households</th>\n",
       "      <th>median_income</th>\n",
       "      <th>median_house_value</th>\n",
       "    </tr>\n",
       "  </thead>\n",
       "  <tbody>\n",
       "    <tr>\n",
       "      <th>count</th>\n",
       "      <td>20637.00000</td>\n",
       "      <td>20637.000000</td>\n",
       "      <td>20637.000000</td>\n",
       "      <td>20640.000000</td>\n",
       "      <td>20430.000000</td>\n",
       "      <td>20637.000000</td>\n",
       "      <td>20640.000000</td>\n",
       "      <td>20640.000000</td>\n",
       "      <td>20637.000000</td>\n",
       "    </tr>\n",
       "    <tr>\n",
       "      <th>mean</th>\n",
       "      <td>-119.56989</td>\n",
       "      <td>35.631952</td>\n",
       "      <td>28.639773</td>\n",
       "      <td>2635.763081</td>\n",
       "      <td>537.846892</td>\n",
       "      <td>1425.357804</td>\n",
       "      <td>499.539680</td>\n",
       "      <td>3.870671</td>\n",
       "      <td>206843.894994</td>\n",
       "    </tr>\n",
       "    <tr>\n",
       "      <th>std</th>\n",
       "      <td>2.00339</td>\n",
       "      <td>2.135883</td>\n",
       "      <td>12.586414</td>\n",
       "      <td>2181.615252</td>\n",
       "      <td>421.401821</td>\n",
       "      <td>1132.468199</td>\n",
       "      <td>382.329753</td>\n",
       "      <td>1.899822</td>\n",
       "      <td>115397.378367</td>\n",
       "    </tr>\n",
       "    <tr>\n",
       "      <th>min</th>\n",
       "      <td>-124.35000</td>\n",
       "      <td>32.540000</td>\n",
       "      <td>1.000000</td>\n",
       "      <td>2.000000</td>\n",
       "      <td>1.000000</td>\n",
       "      <td>3.000000</td>\n",
       "      <td>1.000000</td>\n",
       "      <td>0.499900</td>\n",
       "      <td>14999.000000</td>\n",
       "    </tr>\n",
       "    <tr>\n",
       "      <th>25%</th>\n",
       "      <td>-121.80000</td>\n",
       "      <td>33.930000</td>\n",
       "      <td>18.000000</td>\n",
       "      <td>1447.750000</td>\n",
       "      <td>296.000000</td>\n",
       "      <td>787.000000</td>\n",
       "      <td>280.000000</td>\n",
       "      <td>2.563400</td>\n",
       "      <td>119600.000000</td>\n",
       "    </tr>\n",
       "    <tr>\n",
       "      <th>50%</th>\n",
       "      <td>-118.49000</td>\n",
       "      <td>34.260000</td>\n",
       "      <td>29.000000</td>\n",
       "      <td>2127.000000</td>\n",
       "      <td>435.000000</td>\n",
       "      <td>1166.000000</td>\n",
       "      <td>409.000000</td>\n",
       "      <td>3.534800</td>\n",
       "      <td>179700.000000</td>\n",
       "    </tr>\n",
       "    <tr>\n",
       "      <th>75%</th>\n",
       "      <td>-118.01000</td>\n",
       "      <td>37.710000</td>\n",
       "      <td>37.000000</td>\n",
       "      <td>3148.000000</td>\n",
       "      <td>647.000000</td>\n",
       "      <td>1725.000000</td>\n",
       "      <td>605.000000</td>\n",
       "      <td>4.743250</td>\n",
       "      <td>264700.000000</td>\n",
       "    </tr>\n",
       "    <tr>\n",
       "      <th>max</th>\n",
       "      <td>-114.31000</td>\n",
       "      <td>41.950000</td>\n",
       "      <td>52.000000</td>\n",
       "      <td>39320.000000</td>\n",
       "      <td>6445.000000</td>\n",
       "      <td>35682.000000</td>\n",
       "      <td>6082.000000</td>\n",
       "      <td>15.000100</td>\n",
       "      <td>500001.000000</td>\n",
       "    </tr>\n",
       "  </tbody>\n",
       "</table>\n",
       "</div>"
      ],
      "text/plain": [
       "         longitude      latitude  housing_median_age   total_rooms  \\\n",
       "count  20637.00000  20637.000000        20637.000000  20640.000000   \n",
       "mean    -119.56989     35.631952           28.639773   2635.763081   \n",
       "std        2.00339      2.135883           12.586414   2181.615252   \n",
       "min     -124.35000     32.540000            1.000000      2.000000   \n",
       "25%     -121.80000     33.930000           18.000000   1447.750000   \n",
       "50%     -118.49000     34.260000           29.000000   2127.000000   \n",
       "75%     -118.01000     37.710000           37.000000   3148.000000   \n",
       "max     -114.31000     41.950000           52.000000  39320.000000   \n",
       "\n",
       "       total_bedrooms    population    households  median_income  \\\n",
       "count    20430.000000  20637.000000  20640.000000   20640.000000   \n",
       "mean       537.846892   1425.357804    499.539680       3.870671   \n",
       "std        421.401821   1132.468199    382.329753       1.899822   \n",
       "min          1.000000      3.000000      1.000000       0.499900   \n",
       "25%        296.000000    787.000000    280.000000       2.563400   \n",
       "50%        435.000000   1166.000000    409.000000       3.534800   \n",
       "75%        647.000000   1725.000000    605.000000       4.743250   \n",
       "max       6445.000000  35682.000000   6082.000000      15.000100   \n",
       "\n",
       "       median_house_value  \n",
       "count        20637.000000  \n",
       "mean        206843.894994  \n",
       "std         115397.378367  \n",
       "min          14999.000000  \n",
       "25%         119600.000000  \n",
       "50%         179700.000000  \n",
       "75%         264700.000000  \n",
       "max         500001.000000  "
      ]
     },
     "execution_count": 8,
     "metadata": {},
     "output_type": "execute_result"
    }
   ],
   "source": [
    "#vemos algunas metricas como la mediana, minimo, maximo etc..\n",
    "df.describe()"
   ]
  },
  {
   "cell_type": "markdown",
   "id": "3c93ca28",
   "metadata": {},
   "source": [
    "#### Vamos a visualizar un poco nuestros datos"
   ]
  },
  {
   "cell_type": "code",
   "execution_count": 9,
   "id": "07b3cd63",
   "metadata": {
    "scrolled": true
   },
   "outputs": [
    {
     "data": {
      "image/png": "[encoded data removed]",
      "text/plain": [
       "<Figure size 640x480 with 1 Axes>"
      ]
     },
     "metadata": {},
     "output_type": "display_data"
    }
   ],
   "source": [
    "sns.countplot(x='ocean_proximity', data=df)\n",
    "plt.show()"
   ]
  },
  {
   "cell_type": "markdown",
   "id": "c8e87ef1",
   "metadata": {},
   "source": [
    "#### Esta es la distribucion de la categoria de proximidad al oceano"
   ]
  },
  {
   "cell_type": "markdown",
   "id": "128cef63",
   "metadata": {},
   "source": [
    "## 3.- División de Datos"
   ]
  },
  {
   "cell_type": "markdown",
   "id": "02ef4918",
   "metadata": {},
   "source": [
    "#### Hay que dividir los datos en entrenamiento, evaluación y prueba"
   ]
  },
  {
   "cell_type": "code",
   "execution_count": 10,
   "id": "809c3899",
   "metadata": {},
   "outputs": [],
   "source": [
    "from sklearn.model_selection import train_test_split"
   ]
  },
  {
   "cell_type": "code",
   "execution_count": 11,
   "id": "274d85f8",
   "metadata": {},
   "outputs": [],
   "source": [
    "# importamos train_test_split para dividir los datos\n",
    "from sklearn.model_selection import train_test_split\n",
    "\n",
    "# en este caso solo lo haremos en entrenamiento y evaluacion\n",
    "train_set, val_set = train_test_split(df, test_size=0.1, random_state=42)"
   ]
  },
  {
   "cell_type": "code",
   "execution_count": 12,
   "id": "582ad015",
   "metadata": {},
   "outputs": [
    {
     "name": "stdout",
     "output_type": "stream",
     "text": [
      "la longitud de train_set es de: 18576\n",
      "la longitud de val_set es de: 2064\n"
     ]
    }
   ],
   "source": [
    "print(f'la longitud de train_set es de: {len(train_set)}')\n",
    "print(f'la longitud de val_set es de: {len(val_set)}')"
   ]
  },
  {
   "cell_type": "markdown",
   "id": "c14eb72a",
   "metadata": {},
   "source": [
    "#### Ahora separamos las etiquetas (salidas 'y'), de las caracteristicas (entradas 'x')\n",
    "\n",
    "#### en este cado la etiqueta que tratamos de predecir es la de el precio"
   ]
  },
  {
   "cell_type": "code",
   "execution_count": 13,
   "id": "9d0a05fd",
   "metadata": {},
   "outputs": [],
   "source": [
    "# separamos el de entrenamiento \n",
    "x_train = train_set.drop('median_house_value', axis=1)\n",
    "y_train = train_set['median_house_value'].copy()"
   ]
  },
  {
   "cell_type": "code",
   "execution_count": 14,
   "id": "ce029d7d",
   "metadata": {},
   "outputs": [],
   "source": [
    "# Ahora los de validación\n",
    "x_val = val_set.drop('median_house_value', axis=1)\n",
    "y_val = val_set['median_house_value'].copy()"
   ]
  },
  {
   "cell_type": "markdown",
   "id": "260e0350",
   "metadata": {},
   "source": [
    "## 4.- Preprocesamiento de datos"
   ]
  },
  {
   "cell_type": "markdown",
   "id": "49b8d7bf",
   "metadata": {},
   "source": [
    "#### Antes de entrenar al módelo, hay que preparar los datos, como imputar, normalizar o estandarizar y codificar"
   ]
  },
  {
   "cell_type": "code",
   "execution_count": 15,
   "id": "998774c9",
   "metadata": {},
   "outputs": [
    {
     "data": {
      "text/html": [
       "<div>\n",
       "<style scoped>\n",
       "    .dataframe tbody tr th:only-of-type {\n",
       "        vertical-align: middle;\n",
       "    }\n",
       "\n",
       "    .dataframe tbody tr th {\n",
       "        vertical-align: top;\n",
       "    }\n",
       "\n",
       "    .dataframe thead th {\n",
       "        text-align: right;\n",
       "    }\n",
       "</style>\n",
       "<table border=\"1\" class=\"dataframe\">\n",
       "  <thead>\n",
       "    <tr style=\"text-align: right;\">\n",
       "      <th></th>\n",
       "      <th>longitude</th>\n",
       "      <th>latitude</th>\n",
       "      <th>housing_median_age</th>\n",
       "      <th>total_rooms</th>\n",
       "      <th>total_bedrooms</th>\n",
       "      <th>population</th>\n",
       "      <th>households</th>\n",
       "      <th>median_income</th>\n",
       "      <th>ocean_proximity</th>\n",
       "    </tr>\n",
       "  </thead>\n",
       "  <tbody>\n",
       "    <tr>\n",
       "      <th>5564</th>\n",
       "      <td>-118.29</td>\n",
       "      <td>33.91</td>\n",
       "      <td>41.0</td>\n",
       "      <td>2475.0</td>\n",
       "      <td>532.0</td>\n",
       "      <td>1416.0</td>\n",
       "      <td>470.0</td>\n",
       "      <td>3.8372</td>\n",
       "      <td>&lt;1H OCEAN</td>\n",
       "    </tr>\n",
       "    <tr>\n",
       "      <th>16016</th>\n",
       "      <td>-122.46</td>\n",
       "      <td>37.73</td>\n",
       "      <td>52.0</td>\n",
       "      <td>3547.0</td>\n",
       "      <td>506.0</td>\n",
       "      <td>1276.0</td>\n",
       "      <td>491.0</td>\n",
       "      <td>8.0069</td>\n",
       "      <td>NEAR BAY</td>\n",
       "    </tr>\n",
       "    <tr>\n",
       "      <th>17131</th>\n",
       "      <td>-122.15</td>\n",
       "      <td>37.46</td>\n",
       "      <td>30.0</td>\n",
       "      <td>4198.0</td>\n",
       "      <td>1244.0</td>\n",
       "      <td>2678.0</td>\n",
       "      <td>1147.0</td>\n",
       "      <td>3.6712</td>\n",
       "      <td>NEAR BAY</td>\n",
       "    </tr>\n",
       "    <tr>\n",
       "      <th>11752</th>\n",
       "      <td>-121.21</td>\n",
       "      <td>38.76</td>\n",
       "      <td>16.0</td>\n",
       "      <td>1608.0</td>\n",
       "      <td>296.0</td>\n",
       "      <td>792.0</td>\n",
       "      <td>286.0</td>\n",
       "      <td>3.1583</td>\n",
       "      <td>INLAND</td>\n",
       "    </tr>\n",
       "    <tr>\n",
       "      <th>2308</th>\n",
       "      <td>-119.75</td>\n",
       "      <td>36.83</td>\n",
       "      <td>15.0</td>\n",
       "      <td>2793.0</td>\n",
       "      <td>436.0</td>\n",
       "      <td>1411.0</td>\n",
       "      <td>441.0</td>\n",
       "      <td>4.9292</td>\n",
       "      <td>INLAND</td>\n",
       "    </tr>\n",
       "  </tbody>\n",
       "</table>\n",
       "</div>"
      ],
      "text/plain": [
       "       longitude  latitude  housing_median_age  total_rooms  total_bedrooms  \\\n",
       "5564     -118.29     33.91                41.0       2475.0           532.0   \n",
       "16016    -122.46     37.73                52.0       3547.0           506.0   \n",
       "17131    -122.15     37.46                30.0       4198.0          1244.0   \n",
       "11752    -121.21     38.76                16.0       1608.0           296.0   \n",
       "2308     -119.75     36.83                15.0       2793.0           436.0   \n",
       "\n",
       "       population  households  median_income ocean_proximity  \n",
       "5564       1416.0       470.0         3.8372       <1H OCEAN  \n",
       "16016      1276.0       491.0         8.0069        NEAR BAY  \n",
       "17131      2678.0      1147.0         3.6712        NEAR BAY  \n",
       "11752       792.0       286.0         3.1583          INLAND  \n",
       "2308       1411.0       441.0         4.9292          INLAND  "
      ]
     },
     "execution_count": 15,
     "metadata": {},
     "output_type": "execute_result"
    }
   ],
   "source": [
    "x_train.head()"
   ]
  },
  {
   "cell_type": "markdown",
   "id": "d17fed19",
   "metadata": {},
   "source": [
    "##### Los NaN son los valores nulos que hay que eliminar"
   ]
  },
  {
   "cell_type": "code",
   "execution_count": 16,
   "id": "f7a5b875",
   "metadata": {},
   "outputs": [
    {
     "name": "stdout",
     "output_type": "stream",
     "text": [
      "Index(['longitude', 'latitude', 'housing_median_age', 'total_bedrooms',\n",
      "       'population'],\n",
      "      dtype='object')\n"
     ]
    }
   ],
   "source": [
    "columns_with_nulls = x_train.columns[x_train.isnull().any()]\n",
    "print(columns_with_nulls)"
   ]
  },
  {
   "cell_type": "markdown",
   "id": "faf35bd8",
   "metadata": {},
   "source": [
    "#### Estas son las columnas con valores nulos"
   ]
  },
  {
   "cell_type": "markdown",
   "id": "da19186b",
   "metadata": {},
   "source": [
    "### 4.1.- Imputar"
   ]
  },
  {
   "cell_type": "code",
   "execution_count": 18,
   "id": "6499d496",
   "metadata": {},
   "outputs": [],
   "source": [
    "#para imputar los datos importamos simpleimputer\n",
    "from sklearn.impute import SimpleImputer\n",
    "\n",
    "# seleccionamos las columnas numericas\n",
    "numeric_columns = x_train.select_dtypes(include=['number']).columns\n",
    "\n",
    "# seleccionamos las categorias\n",
    "cat_columns = x_train.select_dtypes(include=['object']).columns\n",
    "\n",
    "# Imputamos valores numéricos con la mediana\n",
    "numeric_imputer = SimpleImputer(strategy='median')# instanciamos ese imputador numerico\n",
    "x_train[numeric_columns] = numeric_imputer.fit_transform(x_train[numeric_columns])\n",
    "\n",
    "# Imputamos las categorias con el valor mas frecuente\n",
    "imputer_categorical = SimpleImputer(strategy='most_frequent')# instanciamos ese imputador categorico\n",
    "x_train[cat_columns] = imputer_categorical.fit_transform(x_train[cat_columns])"
   ]
  },
  {
   "cell_type": "markdown",
   "id": "3b242373",
   "metadata": {},
   "source": [
    "#### Los valores nulos se han eliminado, en cambio esta la media y la categoria mas frecuente"
   ]
  },
  {
   "cell_type": "code",
   "execution_count": 19,
   "id": "015f9443",
   "metadata": {},
   "outputs": [
    {
     "name": "stdout",
     "output_type": "stream",
     "text": [
      "Index([], dtype='object')\n"
     ]
    }
   ],
   "source": [
    "columns_with_nulls = x_train.columns[x_train.isnull().any()]\n",
    "print(columns_with_nulls)"
   ]
  },
  {
   "cell_type": "markdown",
   "id": "ec333ca2",
   "metadata": {},
   "source": [
    "### 4.2.- Normalizar"
   ]
  },
  {
   "cell_type": "markdown",
   "id": "a11ceee0",
   "metadata": {},
   "source": [
    "#### Ahora vamos a normalizar los datos, es decir, vamos a hacer que los valores no tengan mucha diferencia entre si, sino que tengan una escala entre 0 y 1"
   ]
  },
  {
   "cell_type": "code",
   "execution_count": 20,
   "id": "c73c1db8",
   "metadata": {},
   "outputs": [
    {
     "data": {
      "text/html": [
       "<div>\n",
       "<style scoped>\n",
       "    .dataframe tbody tr th:only-of-type {\n",
       "        vertical-align: middle;\n",
       "    }\n",
       "\n",
       "    .dataframe tbody tr th {\n",
       "        vertical-align: top;\n",
       "    }\n",
       "\n",
       "    .dataframe thead th {\n",
       "        text-align: right;\n",
       "    }\n",
       "</style>\n",
       "<table border=\"1\" class=\"dataframe\">\n",
       "  <thead>\n",
       "    <tr style=\"text-align: right;\">\n",
       "      <th></th>\n",
       "      <th>longitude</th>\n",
       "      <th>latitude</th>\n",
       "      <th>housing_median_age</th>\n",
       "      <th>total_rooms</th>\n",
       "      <th>total_bedrooms</th>\n",
       "      <th>population</th>\n",
       "      <th>households</th>\n",
       "      <th>median_income</th>\n",
       "      <th>ocean_proximity</th>\n",
       "    </tr>\n",
       "  </thead>\n",
       "  <tbody>\n",
       "    <tr>\n",
       "      <th>5564</th>\n",
       "      <td>0.603586</td>\n",
       "      <td>0.144681</td>\n",
       "      <td>0.784314</td>\n",
       "      <td>0.062897</td>\n",
       "      <td>0.082402</td>\n",
       "      <td>0.039603</td>\n",
       "      <td>0.077125</td>\n",
       "      <td>0.230155</td>\n",
       "      <td>&lt;1H OCEAN</td>\n",
       "    </tr>\n",
       "    <tr>\n",
       "      <th>16016</th>\n",
       "      <td>0.188247</td>\n",
       "      <td>0.551064</td>\n",
       "      <td>1.000000</td>\n",
       "      <td>0.090162</td>\n",
       "      <td>0.078367</td>\n",
       "      <td>0.035679</td>\n",
       "      <td>0.080579</td>\n",
       "      <td>0.517717</td>\n",
       "      <td>NEAR BAY</td>\n",
       "    </tr>\n",
       "    <tr>\n",
       "      <th>17131</th>\n",
       "      <td>0.219124</td>\n",
       "      <td>0.522340</td>\n",
       "      <td>0.568627</td>\n",
       "      <td>0.106720</td>\n",
       "      <td>0.192893</td>\n",
       "      <td>0.074974</td>\n",
       "      <td>0.188456</td>\n",
       "      <td>0.218707</td>\n",
       "      <td>NEAR BAY</td>\n",
       "    </tr>\n",
       "    <tr>\n",
       "      <th>11752</th>\n",
       "      <td>0.312749</td>\n",
       "      <td>0.660638</td>\n",
       "      <td>0.294118</td>\n",
       "      <td>0.040846</td>\n",
       "      <td>0.045779</td>\n",
       "      <td>0.022114</td>\n",
       "      <td>0.046867</td>\n",
       "      <td>0.183335</td>\n",
       "      <td>INLAND</td>\n",
       "    </tr>\n",
       "    <tr>\n",
       "      <th>2308</th>\n",
       "      <td>0.458167</td>\n",
       "      <td>0.455319</td>\n",
       "      <td>0.274510</td>\n",
       "      <td>0.070985</td>\n",
       "      <td>0.067505</td>\n",
       "      <td>0.039463</td>\n",
       "      <td>0.072357</td>\n",
       "      <td>0.305465</td>\n",
       "      <td>INLAND</td>\n",
       "    </tr>\n",
       "  </tbody>\n",
       "</table>\n",
       "</div>"
      ],
      "text/plain": [
       "       longitude  latitude  housing_median_age  total_rooms  total_bedrooms  \\\n",
       "5564    0.603586  0.144681            0.784314     0.062897        0.082402   \n",
       "16016   0.188247  0.551064            1.000000     0.090162        0.078367   \n",
       "17131   0.219124  0.522340            0.568627     0.106720        0.192893   \n",
       "11752   0.312749  0.660638            0.294118     0.040846        0.045779   \n",
       "2308    0.458167  0.455319            0.274510     0.070985        0.067505   \n",
       "\n",
       "       population  households  median_income ocean_proximity  \n",
       "5564     0.039603    0.077125       0.230155       <1H OCEAN  \n",
       "16016    0.035679    0.080579       0.517717        NEAR BAY  \n",
       "17131    0.074974    0.188456       0.218707        NEAR BAY  \n",
       "11752    0.022114    0.046867       0.183335          INLAND  \n",
       "2308     0.039463    0.072357       0.305465          INLAND  "
      ]
     },
     "execution_count": 20,
     "metadata": {},
     "output_type": "execute_result"
    }
   ],
   "source": [
    "# lo haremos con minmaxscaler\n",
    "\n",
    "# Creamos un objeto MinMaxScaler\n",
    "scaler = MinMaxScaler()\n",
    "\n",
    "# Seleccionamos solo las columnas numéricas para la normalización\n",
    "numeric_cols = x_train.select_dtypes(include='number').columns\n",
    "\n",
    "# Normalizar las columnas numéricas\n",
    "x_train[numeric_cols] = scaler.fit_transform(x_train[numeric_cols])\n",
    "\n",
    "# Ahora, el df contiene las columnas numéricas normalizadas\n",
    "x_train.head()"
   ]
  },
  {
   "cell_type": "markdown",
   "id": "f23def17",
   "metadata": {},
   "source": [
    "### 4.3.- Codificar"
   ]
  },
  {
   "cell_type": "markdown",
   "id": "6af8b3e1",
   "metadata": {},
   "source": [
    "#### El ultimo paso seria codificarlo, es decir, convertir las categorias (letras), en números"
   ]
  },
  {
   "cell_type": "code",
   "execution_count": 21,
   "id": "56fe2a17",
   "metadata": {},
   "outputs": [],
   "source": [
    "# Seleccionar columnas categóricas\n",
    "cat_columns1 = x_train.select_dtypes(include=['object']).columns\n",
    "\n",
    "# Aplicar One-Hot Encoding al conjunto de entrenamiento\n",
    "x_train = pd.get_dummies(x_train, columns=cat_columns1, dtype=float)"
   ]
  },
  {
   "cell_type": "markdown",
   "id": "a71e7ebb",
   "metadata": {},
   "source": [
    "#### ok, x_train ya esta, ahora hay que hacer lo mismo con x_val"
   ]
  },
  {
   "cell_type": "markdown",
   "id": "ec6463b1",
   "metadata": {},
   "source": [
    "#### Lo se, es un coñaso empezar de nuevo, pues por eso estan los pipelines que lo aprenderemos en otro momento"
   ]
  },
  {
   "cell_type": "code",
   "execution_count": 22,
   "id": "9a9c1d28",
   "metadata": {},
   "outputs": [],
   "source": [
    "#para imputar los datos importamos simpleimputer\n",
    "from sklearn.impute import SimpleImputer\n",
    "\n",
    "# seleccionamos las columnas numericas\n",
    "numeric_columns = x_val.select_dtypes(include=['number']).columns\n",
    "\n",
    "# seleccionamos las categorias\n",
    "cat_columns = x_val.select_dtypes(include=['object']).columns\n",
    "\n",
    "# Imputamos valores numéricos con la mediana\n",
    "numeric_imputer = SimpleImputer(strategy='median')# instanciamos ese imputador numerico\n",
    "x_val[numeric_columns] = numeric_imputer.fit_transform(x_val[numeric_columns])\n",
    "\n",
    "# Imputamos las categorias con el valor mas frecuente\n",
    "imputer_categorical = SimpleImputer(strategy='most_frequent')# instanciamos ese imputador categorico\n",
    "x_val[cat_columns] = imputer_categorical.fit_transform(x_val[cat_columns])"
   ]
  },
  {
   "cell_type": "code",
   "execution_count": 23,
   "id": "c02ec7ab",
   "metadata": {},
   "outputs": [],
   "source": [
    "# Creamos un objeto MinMaxScaler\n",
    "scaler = MinMaxScaler()\n",
    "\n",
    "# Seleccionamos solo las columnas numéricas para la normalización\n",
    "numeric_cols = x_val.select_dtypes(include='number').columns\n",
    "\n",
    "# Normalizar las columnas numéricas\n",
    "x_val[numeric_cols] = scaler.fit_transform(x_val[numeric_cols])\n",
    "\n",
    "# Ahora, el df contiene las columnas numéricas normalizadas"
   ]
  },
  {
   "cell_type": "code",
   "execution_count": 24,
   "id": "b054dec5",
   "metadata": {},
   "outputs": [],
   "source": [
    "# Seleccionar columnas categóricas\n",
    "cat_columns1 = x_val.select_dtypes(include=['object']).columns\n",
    "\n",
    "# Aplicar One-Hot Encoding al conjunto de entrenamiento\n",
    "x_val = pd.get_dummies(x_val, columns=cat_columns1, dtype=float)"
   ]
  },
  {
   "cell_type": "code",
   "execution_count": null,
   "id": "06751374",
   "metadata": {},
   "outputs": [],
   "source": []
  }
 ],
 "metadata": {
  "kernelspec": {
   "display_name": "Python 3 (ipykernel)",
   "language": "python",
   "name": "python3"
  },
  "language_info": {
   "codemirror_mode": {
    "name": "ipython",
    "version": 3
   },
   "file_extension": ".py",
   "mimetype": "text/x-python",
   "name": "python",
   "nbconvert_exporter": "python",
   "pygments_lexer": "ipython3",
   "version": "3.11.5"
  }
 },
 "nbformat": 4,
 "nbformat_minor": 5
}
