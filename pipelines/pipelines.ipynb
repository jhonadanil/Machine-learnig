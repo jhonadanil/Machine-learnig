{
 "cells": [
  {
   "cell_type": "code",
   "execution_count": 2,
   "id": "aaf10c5d",
   "metadata": {},
   "outputs": [],
   "source": [
    "from sklearn.compose import ColumnTransformer\n",
    "from sklearn.pipeline import Pipeline\n",
    "from sklearn.preprocessing import StandardScaler, OneHotEncoder\n",
    "\n",
    "# Construir el pipeline para atributos numéricos\n",
    "num_pipeline = Pipeline([\n",
    "    ('imputer', SimpleImputer(strategy=\"median\")),\n",
    "    ('std_scaler', StandardScaler())\n",
    "])\n",
    "\n",
    "# Construir el pipeline para atributos categóricos\n",
    "cat_pipeline = Pipeline([\n",
    "    ('imputer', SimpleImputer(strategy=\"most_frequent\", fill_value=\"missing\")),\n",
    "    ('one_hot_encoder', OneHotEncoder(sparse_output=False))  # Cambiado de 'sparse' a 'sparse_output'\n",
    "])\n",
    "\n",
    "# Crear el preprocesador para atributos numéricos y categóricos\n",
    "preprocessor = ColumnTransformer([\n",
    "    (\"num\", num_pipeline, num_attribs),\n",
    "    (\"cat\", cat_pipeline, cat_attribs)\n",
    "])"
   ]
  },
  {
   "cell_type": "code",
   "execution_count": null,
   "id": "a87310a0",
   "metadata": {},
   "outputs": [],
   "source": [
    "import pandas as pd\n",
    "from sklearn.preprocessing import OneHotEncoder\n",
    "\n",
    "# Ejemplo de conjuntos de datos\n",
    "# Puedes sustituir estos datos con tus propios conjuntos de datos\n",
    "data_train = {'categorical_column': ['A', 'B', 'A', 'C']}\n",
    "data_val = {'categorical_column': ['B', 'A', 'C', 'D']}\n",
    "\n",
    "x_train = pd.DataFrame(data_train)\n",
    "x_val = pd.DataFrame(data_val)\n",
    "\n",
    "# Inicializar y ajustar el codificador en el conjunto de datos de entrenamiento\n",
    "encoder = OneHotEncoder(sparse=False, drop='first')  # 'drop' elimina una de las columnas dummy para evitar multicolinealidad\n",
    "encoder.fit(x_train[['categorical_column']])\n",
    "\n",
    "# Aplicar one-hot encoding a ambos conjuntos de datos\n",
    "x_train_encoded = encoder.transform(x_train[['categorical_column']])\n",
    "x_val_encoded = encoder.transform(x_val[['categorical_column']])\n",
    "\n",
    "# Obtener nombres de columnas después del one-hot encoding\n",
    "encoded_columns = encoder.get_feature_names_out(['categorical_column'])\n",
    "\n",
    "# Crear DataFrames con las columnas codificadas\n",
    "x_train_encoded_df = pd.DataFrame(x_train_encoded, columns=encoded_columns)\n",
    "x_val_encoded_df = pd.DataFrame(x_val_encoded, columns=encoded_columns)\n",
    "\n",
    "# Asegurarse de que ambos conjuntos de datos tengan las mismas columnas\n",
    "common_columns = set(x_train_encoded_df.columns) & set(x_val_encoded_df.columns)\n",
    "x_train_encoded_df = x_train_encoded_df[common_columns]\n",
    "x_val_encoded_df = x_val_encoded_df[common_columns]\n",
    "\n",
    "# Resultados\n",
    "print(\"Conjunto de datos de entrenamiento después del one-hot encoding:\")\n",
    "print(x_train_encoded_df)\n",
    "\n",
    "print(\"\\nConjunto de datos de validación después del one-hot encoding:\")\n",
    "print(x_val_encoded_df)\n"
   ]
  }
 ],
 "metadata": {
  "kernelspec": {
   "display_name": "Python 3 (ipykernel)",
   "language": "python",
   "name": "python3"
  },
  "language_info": {
   "codemirror_mode": {
    "name": "ipython",
    "version": 3
   },
   "file_extension": ".py",
   "mimetype": "text/x-python",
   "name": "python",
   "nbconvert_exporter": "python",
   "pygments_lexer": "ipython3",
   "version": "3.11.5"
  }
 },
 "nbformat": 4,
 "nbformat_minor": 5
}
