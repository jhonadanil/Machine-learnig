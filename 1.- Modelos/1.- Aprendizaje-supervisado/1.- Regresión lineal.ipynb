{
 "cells": [
  {
   "cell_type": "markdown",
   "id": "3735cc06",
   "metadata": {},
   "source": [
    "#### Primero importamos las librerias necesarias"
   ]
  },
  {
   "cell_type": "code",
   "execution_count": 1,
   "id": "e975f2f6",
   "metadata": {},
   "outputs": [],
   "source": [
    "# Para convertirlo en un df\n",
    "import pandas as pd\n",
    "# Para cálculos numericos\n",
    "import numpy as np\n",
    "# Para graficar\n",
    "import matplotlib.pyplot as plt\n",
    "import seaborn as sns\n",
    "# Para normalizar los datos\n",
    "from sklearn.preprocessing import MinMaxScaler\n",
    "# Para entrenar el modelo\n",
    "from sklearn.linear_model import LinearRegression\n",
    "# Para evaluar el modelo\n",
    "from sklearn.metrics import mean_squared_error"
   ]
  },
  {
   "cell_type": "markdown",
   "id": "33dcbe76",
   "metadata": {},
   "source": [
    "## 1.- **Recopilación de Datos**"
   ]
  },
  {
   "cell_type": "markdown",
   "id": "9294a0a6",
   "metadata": {},
   "source": [
    "Este conjunto de datos se encuentra en esta pagina:\n",
    "https://www.kaggle.com/datasets/camnugent/california-housing-prices\n",
    "\n",
    "Es importante mirarlo para entenderlo mejor"
   ]
  },
  {
   "cell_type": "code",
   "execution_count": 2,
   "id": "e5d77b5e",
   "metadata": {},
   "outputs": [],
   "source": [
    "# Vamos a leer estos datos para entenderlo mejor\n",
    "df = pd.read_csv('../../3.- Datasets\\housing.csv')"
   ]
  },
  {
   "cell_type": "code",
   "execution_count": 3,
   "id": "610b30cb",
   "metadata": {},
   "outputs": [],
   "source": [
    "df2 = df.copy()"
   ]
  },
  {
   "cell_type": "markdown",
   "id": "4ccb1ff3",
   "metadata": {},
   "source": [
    "#### Vamos a añadir algunas imperfecciones a nuestro codigo para mas adelante"
   ]
  },
  {
   "cell_type": "code",
   "execution_count": 4,
   "id": "8aa65a81",
   "metadata": {},
   "outputs": [
    {
     "name": "stdout",
     "output_type": "stream",
     "text": [
      "Valores nulos en 'median_house_value': 0\n"
     ]
    }
   ],
   "source": [
    "# Seleccionar algunas entradas aleatorias para modificar\n",
    "filas_a_modificar = np.random.choice(df.index, size=3, replace=False)\n",
    "columnas_a_modificar = np.random.choice(df.columns, size=3, replace=False)\n",
    "\n",
    "# Asegurarte de que la columna 'median_house_value' no esté en columnas_a_modificar\n",
    "columnas_a_modificar = [col for col in columnas_a_modificar if col != 'median_house_value']\n",
    "\n",
    "# Modificar aleatoriamente algunas entradas, excluyendo 'median_house_value'\n",
    "df.loc[filas_a_modificar, columnas_a_modificar] = np.nan\n",
    "\n",
    "# Verificar que no se hayan añadido nulos a 'median_house_value'\n",
    "valores_nulos_median_house_value = df['median_house_value'].isnull().sum()\n",
    "print(f\"Valores nulos en 'median_house_value': {valores_nulos_median_house_value}\")"
   ]
  },
  {
   "cell_type": "markdown",
   "id": "dd71d3b5",
   "metadata": {},
   "source": [
    "## **2.- Exploración y Análisis de Datos**"
   ]
  },
  {
   "cell_type": "code",
   "execution_count": 5,
   "id": "bba4fc4b",
   "metadata": {
    "scrolled": true
   },
   "outputs": [
    {
     "data": {
      "text/html": [
       "<div>\n",
       "<style scoped>\n",
       "    .dataframe tbody tr th:only-of-type {\n",
       "        vertical-align: middle;\n",
       "    }\n",
       "\n",
       "    .dataframe tbody tr th {\n",
       "        vertical-align: top;\n",
       "    }\n",
       "\n",
       "    .dataframe thead th {\n",
       "        text-align: right;\n",
       "    }\n",
       "</style>\n",
       "<table border=\"1\" class=\"dataframe\">\n",
       "  <thead>\n",
       "    <tr style=\"text-align: right;\">\n",
       "      <th></th>\n",
       "      <th>longitude</th>\n",
       "      <th>latitude</th>\n",
       "      <th>housing_median_age</th>\n",
       "      <th>total_rooms</th>\n",
       "      <th>total_bedrooms</th>\n",
       "      <th>population</th>\n",
       "      <th>households</th>\n",
       "      <th>median_income</th>\n",
       "      <th>median_house_value</th>\n",
       "      <th>ocean_proximity</th>\n",
       "    </tr>\n",
       "  </thead>\n",
       "  <tbody>\n",
       "    <tr>\n",
       "      <th>0</th>\n",
       "      <td>-122.23</td>\n",
       "      <td>37.88</td>\n",
       "      <td>41.0</td>\n",
       "      <td>880.0</td>\n",
       "      <td>129.0</td>\n",
       "      <td>322.0</td>\n",
       "      <td>126.0</td>\n",
       "      <td>8.3252</td>\n",
       "      <td>452600.0</td>\n",
       "      <td>NEAR BAY</td>\n",
       "    </tr>\n",
       "    <tr>\n",
       "      <th>1</th>\n",
       "      <td>-122.22</td>\n",
       "      <td>37.86</td>\n",
       "      <td>21.0</td>\n",
       "      <td>7099.0</td>\n",
       "      <td>1106.0</td>\n",
       "      <td>2401.0</td>\n",
       "      <td>1138.0</td>\n",
       "      <td>8.3014</td>\n",
       "      <td>358500.0</td>\n",
       "      <td>NEAR BAY</td>\n",
       "    </tr>\n",
       "    <tr>\n",
       "      <th>2</th>\n",
       "      <td>-122.24</td>\n",
       "      <td>37.85</td>\n",
       "      <td>52.0</td>\n",
       "      <td>1467.0</td>\n",
       "      <td>190.0</td>\n",
       "      <td>496.0</td>\n",
       "      <td>177.0</td>\n",
       "      <td>7.2574</td>\n",
       "      <td>352100.0</td>\n",
       "      <td>NEAR BAY</td>\n",
       "    </tr>\n",
       "    <tr>\n",
       "      <th>3</th>\n",
       "      <td>-122.25</td>\n",
       "      <td>37.85</td>\n",
       "      <td>52.0</td>\n",
       "      <td>1274.0</td>\n",
       "      <td>235.0</td>\n",
       "      <td>558.0</td>\n",
       "      <td>219.0</td>\n",
       "      <td>5.6431</td>\n",
       "      <td>341300.0</td>\n",
       "      <td>NEAR BAY</td>\n",
       "    </tr>\n",
       "    <tr>\n",
       "      <th>4</th>\n",
       "      <td>-122.25</td>\n",
       "      <td>37.85</td>\n",
       "      <td>52.0</td>\n",
       "      <td>1627.0</td>\n",
       "      <td>280.0</td>\n",
       "      <td>565.0</td>\n",
       "      <td>259.0</td>\n",
       "      <td>3.8462</td>\n",
       "      <td>342200.0</td>\n",
       "      <td>NEAR BAY</td>\n",
       "    </tr>\n",
       "  </tbody>\n",
       "</table>\n",
       "</div>"
      ],
      "text/plain": [
       "   longitude  latitude  housing_median_age  total_rooms  total_bedrooms  \\\n",
       "0    -122.23     37.88                41.0        880.0           129.0   \n",
       "1    -122.22     37.86                21.0       7099.0          1106.0   \n",
       "2    -122.24     37.85                52.0       1467.0           190.0   \n",
       "3    -122.25     37.85                52.0       1274.0           235.0   \n",
       "4    -122.25     37.85                52.0       1627.0           280.0   \n",
       "\n",
       "   population  households  median_income  median_house_value ocean_proximity  \n",
       "0       322.0       126.0         8.3252            452600.0        NEAR BAY  \n",
       "1      2401.0      1138.0         8.3014            358500.0        NEAR BAY  \n",
       "2       496.0       177.0         7.2574            352100.0        NEAR BAY  \n",
       "3       558.0       219.0         5.6431            341300.0        NEAR BAY  \n",
       "4       565.0       259.0         3.8462            342200.0        NEAR BAY  "
      ]
     },
     "execution_count": 5,
     "metadata": {},
     "output_type": "execute_result"
    }
   ],
   "source": [
    "# Mostramos las 5 primeras filas de mi df\n",
    "df.head()"
   ]
  },
  {
   "cell_type": "code",
   "execution_count": 6,
   "id": "85fdddaf",
   "metadata": {
    "scrolled": true
   },
   "outputs": [
    {
     "name": "stdout",
     "output_type": "stream",
     "text": [
      "<class 'pandas.core.frame.DataFrame'>\n",
      "RangeIndex: 20640 entries, 0 to 20639\n",
      "Data columns (total 10 columns):\n",
      " #   Column              Non-Null Count  Dtype  \n",
      "---  ------              --------------  -----  \n",
      " 0   longitude           20640 non-null  float64\n",
      " 1   latitude            20640 non-null  float64\n",
      " 2   housing_median_age  20637 non-null  float64\n",
      " 3   total_rooms         20637 non-null  float64\n",
      " 4   total_bedrooms      20433 non-null  float64\n",
      " 5   population          20640 non-null  float64\n",
      " 6   households          20640 non-null  float64\n",
      " 7   median_income       20640 non-null  float64\n",
      " 8   median_house_value  20640 non-null  float64\n",
      " 9   ocean_proximity     20637 non-null  object \n",
      "dtypes: float64(9), object(1)\n",
      "memory usage: 1.6+ MB\n"
     ]
    }
   ],
   "source": [
    "df.info()"
   ]
  },
  {
   "cell_type": "markdown",
   "id": "918db5c4",
   "metadata": {},
   "source": [
    "#### Aqui se ve que todas las columnas son de tipo numerico, menos la ultima que es una categoria"
   ]
  },
  {
   "cell_type": "code",
   "execution_count": 7,
   "id": "9c4f1fa0",
   "metadata": {},
   "outputs": [
    {
     "data": {
      "text/html": [
       "<div>\n",
       "<style scoped>\n",
       "    .dataframe tbody tr th:only-of-type {\n",
       "        vertical-align: middle;\n",
       "    }\n",
       "\n",
       "    .dataframe tbody tr th {\n",
       "        vertical-align: top;\n",
       "    }\n",
       "\n",
       "    .dataframe thead th {\n",
       "        text-align: right;\n",
       "    }\n",
       "</style>\n",
       "<table border=\"1\" class=\"dataframe\">\n",
       "  <thead>\n",
       "    <tr style=\"text-align: right;\">\n",
       "      <th></th>\n",
       "      <th>longitude</th>\n",
       "      <th>latitude</th>\n",
       "      <th>housing_median_age</th>\n",
       "      <th>total_rooms</th>\n",
       "      <th>total_bedrooms</th>\n",
       "      <th>population</th>\n",
       "      <th>households</th>\n",
       "      <th>median_income</th>\n",
       "      <th>median_house_value</th>\n",
       "    </tr>\n",
       "  </thead>\n",
       "  <tbody>\n",
       "    <tr>\n",
       "      <th>count</th>\n",
       "      <td>20640.000000</td>\n",
       "      <td>20640.000000</td>\n",
       "      <td>20637.000000</td>\n",
       "      <td>20637.000000</td>\n",
       "      <td>20433.000000</td>\n",
       "      <td>20640.000000</td>\n",
       "      <td>20640.000000</td>\n",
       "      <td>20640.000000</td>\n",
       "      <td>20640.000000</td>\n",
       "    </tr>\n",
       "    <tr>\n",
       "      <th>mean</th>\n",
       "      <td>-119.569704</td>\n",
       "      <td>35.631861</td>\n",
       "      <td>28.640645</td>\n",
       "      <td>2635.705723</td>\n",
       "      <td>537.870553</td>\n",
       "      <td>1425.476744</td>\n",
       "      <td>499.539680</td>\n",
       "      <td>3.870671</td>\n",
       "      <td>206855.816909</td>\n",
       "    </tr>\n",
       "    <tr>\n",
       "      <th>std</th>\n",
       "      <td>2.003532</td>\n",
       "      <td>2.135952</td>\n",
       "      <td>12.585904</td>\n",
       "      <td>2181.730484</td>\n",
       "      <td>421.385070</td>\n",
       "      <td>1132.462122</td>\n",
       "      <td>382.329753</td>\n",
       "      <td>1.899822</td>\n",
       "      <td>115395.615874</td>\n",
       "    </tr>\n",
       "    <tr>\n",
       "      <th>min</th>\n",
       "      <td>-124.350000</td>\n",
       "      <td>32.540000</td>\n",
       "      <td>1.000000</td>\n",
       "      <td>2.000000</td>\n",
       "      <td>1.000000</td>\n",
       "      <td>3.000000</td>\n",
       "      <td>1.000000</td>\n",
       "      <td>0.499900</td>\n",
       "      <td>14999.000000</td>\n",
       "    </tr>\n",
       "    <tr>\n",
       "      <th>25%</th>\n",
       "      <td>-121.800000</td>\n",
       "      <td>33.930000</td>\n",
       "      <td>18.000000</td>\n",
       "      <td>1447.000000</td>\n",
       "      <td>296.000000</td>\n",
       "      <td>787.000000</td>\n",
       "      <td>280.000000</td>\n",
       "      <td>2.563400</td>\n",
       "      <td>119600.000000</td>\n",
       "    </tr>\n",
       "    <tr>\n",
       "      <th>50%</th>\n",
       "      <td>-118.490000</td>\n",
       "      <td>34.260000</td>\n",
       "      <td>29.000000</td>\n",
       "      <td>2127.000000</td>\n",
       "      <td>435.000000</td>\n",
       "      <td>1166.000000</td>\n",
       "      <td>409.000000</td>\n",
       "      <td>3.534800</td>\n",
       "      <td>179700.000000</td>\n",
       "    </tr>\n",
       "    <tr>\n",
       "      <th>75%</th>\n",
       "      <td>-118.010000</td>\n",
       "      <td>37.710000</td>\n",
       "      <td>37.000000</td>\n",
       "      <td>3148.000000</td>\n",
       "      <td>647.000000</td>\n",
       "      <td>1725.000000</td>\n",
       "      <td>605.000000</td>\n",
       "      <td>4.743250</td>\n",
       "      <td>264725.000000</td>\n",
       "    </tr>\n",
       "    <tr>\n",
       "      <th>max</th>\n",
       "      <td>-114.310000</td>\n",
       "      <td>41.950000</td>\n",
       "      <td>52.000000</td>\n",
       "      <td>39320.000000</td>\n",
       "      <td>6445.000000</td>\n",
       "      <td>35682.000000</td>\n",
       "      <td>6082.000000</td>\n",
       "      <td>15.000100</td>\n",
       "      <td>500001.000000</td>\n",
       "    </tr>\n",
       "  </tbody>\n",
       "</table>\n",
       "</div>"
      ],
      "text/plain": [
       "          longitude      latitude  housing_median_age   total_rooms  \\\n",
       "count  20640.000000  20640.000000        20637.000000  20637.000000   \n",
       "mean    -119.569704     35.631861           28.640645   2635.705723   \n",
       "std        2.003532      2.135952           12.585904   2181.730484   \n",
       "min     -124.350000     32.540000            1.000000      2.000000   \n",
       "25%     -121.800000     33.930000           18.000000   1447.000000   \n",
       "50%     -118.490000     34.260000           29.000000   2127.000000   \n",
       "75%     -118.010000     37.710000           37.000000   3148.000000   \n",
       "max     -114.310000     41.950000           52.000000  39320.000000   \n",
       "\n",
       "       total_bedrooms    population    households  median_income  \\\n",
       "count    20433.000000  20640.000000  20640.000000   20640.000000   \n",
       "mean       537.870553   1425.476744    499.539680       3.870671   \n",
       "std        421.385070   1132.462122    382.329753       1.899822   \n",
       "min          1.000000      3.000000      1.000000       0.499900   \n",
       "25%        296.000000    787.000000    280.000000       2.563400   \n",
       "50%        435.000000   1166.000000    409.000000       3.534800   \n",
       "75%        647.000000   1725.000000    605.000000       4.743250   \n",
       "max       6445.000000  35682.000000   6082.000000      15.000100   \n",
       "\n",
       "       median_house_value  \n",
       "count        20640.000000  \n",
       "mean        206855.816909  \n",
       "std         115395.615874  \n",
       "min          14999.000000  \n",
       "25%         119600.000000  \n",
       "50%         179700.000000  \n",
       "75%         264725.000000  \n",
       "max         500001.000000  "
      ]
     },
     "execution_count": 7,
     "metadata": {},
     "output_type": "execute_result"
    }
   ],
   "source": [
    "#vemos algunas metricas como la mediana, minimo, maximo etc..\n",
    "df.describe()"
   ]
  },
  {
   "cell_type": "markdown",
   "id": "3c93ca28",
   "metadata": {},
   "source": [
    "#### Vamos a visualizar un poco nuestros datos"
   ]
  },
  {
   "cell_type": "code",
   "execution_count": 8,
   "id": "07b3cd63",
   "metadata": {
    "scrolled": true
   },
   "outputs": [
    {
     "data": {
      "image/png": "[encoded data removed]",
      "text/plain": [
       "<Figure size 640x480 with 1 Axes>"
      ]
     },
     "metadata": {},
     "output_type": "display_data"
    }
   ],
   "source": [
    "sns.countplot(x='ocean_proximity', data=df)\n",
    "plt.show()"
   ]
  },
  {
   "cell_type": "markdown",
   "id": "c8e87ef1",
   "metadata": {},
   "source": [
    "#### Esta es la distribucion de la categoria de proximidad al oceano"
   ]
  },
  {
   "cell_type": "code",
   "execution_count": 31,
   "id": "2edb60b1",
   "metadata": {
    "scrolled": true
   },
   "outputs": [
    {
     "data": {
      "image/png": "[encoded data removed]",
      "text/plain": [
       "<Figure size 640x480 with 1 Axes>"
      ]
     },
     "metadata": {},
     "output_type": "display_data"
    }
   ],
   "source": [
    "# Gráfico de dispersión de longitud y latitud\n",
    "plt.scatter(df['longitude'], df['latitude'], alpha=0.5)\n",
    "plt.title('Scatter Plot of Longitude vs Latitude')\n",
    "plt.xlabel('Longitude')\n",
    "plt.ylabel('Latitude')\n",
    "plt.show()"
   ]
  },
  {
   "cell_type": "markdown",
   "id": "a11b5ac1",
   "metadata": {},
   "source": [
    "#### Ok, tiene la forma de california xd"
   ]
  },
  {
   "cell_type": "code",
   "execution_count": 32,
   "id": "748afc24",
   "metadata": {
    "scrolled": true
   },
   "outputs": [
    {
     "data": {
      "image/png": "[encoded data removed]",
      "text/plain": [
       "<Figure size 640x480 with 1 Axes>"
      ]
     },
     "metadata": {},
     "output_type": "display_data"
    }
   ],
   "source": [
    "# Miramos los ingresos medios\n",
    "plt.hist(df['median_income'], bins=30, edgecolor='black')\n",
    "plt.title('Histogram of Median Income')\n",
    "plt.xlabel('Median Income')\n",
    "plt.ylabel('Frequency')\n",
    "plt.show()"
   ]
  },
  {
   "cell_type": "markdown",
   "id": "128cef63",
   "metadata": {},
   "source": [
    "## 3.- División de Datos"
   ]
  },
  {
   "cell_type": "markdown",
   "id": "02ef4918",
   "metadata": {},
   "source": [
    "#### Hay que dividir los datos en entrenamiento, evaluación y prueba"
   ]
  },
  {
   "cell_type": "code",
   "execution_count": 9,
   "id": "809c3899",
   "metadata": {},
   "outputs": [],
   "source": [
    "from sklearn.model_selection import train_test_split"
   ]
  },
  {
   "cell_type": "code",
   "execution_count": 10,
   "id": "274d85f8",
   "metadata": {},
   "outputs": [],
   "source": [
    "# importamos train_test_split para dividir los datos\n",
    "from sklearn.model_selection import train_test_split\n",
    "\n",
    "# en este caso solo lo haremos en entrenamiento y evaluacion\n",
    "train_set, test_set = train_test_split(df, test_size=0.1, random_state=42)"
   ]
  },
  {
   "cell_type": "code",
   "execution_count": 11,
   "id": "582ad015",
   "metadata": {},
   "outputs": [
    {
     "name": "stdout",
     "output_type": "stream",
     "text": [
      "la longitud de train_set es de: 18576\n",
      "la longitud de test_set es de: 2064\n"
     ]
    }
   ],
   "source": [
    "print(f'la longitud de train_set es de: {len(train_set)}')\n",
    "print(f'la longitud de test_set es de: {len(test_set)}')"
   ]
  },
  {
   "cell_type": "markdown",
   "id": "c14eb72a",
   "metadata": {},
   "source": [
    "#### Ahora separamos las etiquetas (salidas 'y'), de las caracteristicas (entradas 'x')\n",
    "\n",
    "#### en este cado la etiqueta que tratamos de predecir es la de el precio"
   ]
  },
  {
   "cell_type": "code",
   "execution_count": 12,
   "id": "9d0a05fd",
   "metadata": {},
   "outputs": [],
   "source": [
    "# separamos el de entrenamiento \n",
    "x_train = train_set.drop('median_house_value', axis=1)\n",
    "y_train = train_set['median_house_value'].copy()"
   ]
  },
  {
   "cell_type": "code",
   "execution_count": 13,
   "id": "ce029d7d",
   "metadata": {},
   "outputs": [],
   "source": [
    "# Ahora los de validación\n",
    "x_test = test_set.drop('median_house_value', axis=1)\n",
    "y_test = test_set['median_house_value'].copy()"
   ]
  },
  {
   "cell_type": "markdown",
   "id": "260e0350",
   "metadata": {},
   "source": [
    "## 4.- Preprocesamiento de datos"
   ]
  },
  {
   "cell_type": "markdown",
   "id": "49b8d7bf",
   "metadata": {},
   "source": [
    "#### Antes de entrenar al módelo, hay que preparar los datos, como imputar, normalizar o estandarizar y codificar"
   ]
  },
  {
   "cell_type": "code",
   "execution_count": 14,
   "id": "998774c9",
   "metadata": {},
   "outputs": [
    {
     "data": {
      "text/html": [
       "<div>\n",
       "<style scoped>\n",
       "    .dataframe tbody tr th:only-of-type {\n",
       "        vertical-align: middle;\n",
       "    }\n",
       "\n",
       "    .dataframe tbody tr th {\n",
       "        vertical-align: top;\n",
       "    }\n",
       "\n",
       "    .dataframe thead th {\n",
       "        text-align: right;\n",
       "    }\n",
       "</style>\n",
       "<table border=\"1\" class=\"dataframe\">\n",
       "  <thead>\n",
       "    <tr style=\"text-align: right;\">\n",
       "      <th></th>\n",
       "      <th>longitude</th>\n",
       "      <th>latitude</th>\n",
       "      <th>housing_median_age</th>\n",
       "      <th>total_rooms</th>\n",
       "      <th>total_bedrooms</th>\n",
       "      <th>population</th>\n",
       "      <th>households</th>\n",
       "      <th>median_income</th>\n",
       "      <th>ocean_proximity</th>\n",
       "    </tr>\n",
       "  </thead>\n",
       "  <tbody>\n",
       "    <tr>\n",
       "      <th>5564</th>\n",
       "      <td>-118.29</td>\n",
       "      <td>33.91</td>\n",
       "      <td>41.0</td>\n",
       "      <td>2475.0</td>\n",
       "      <td>532.0</td>\n",
       "      <td>1416.0</td>\n",
       "      <td>470.0</td>\n",
       "      <td>3.8372</td>\n",
       "      <td>&lt;1H OCEAN</td>\n",
       "    </tr>\n",
       "    <tr>\n",
       "      <th>16016</th>\n",
       "      <td>-122.46</td>\n",
       "      <td>37.73</td>\n",
       "      <td>52.0</td>\n",
       "      <td>3547.0</td>\n",
       "      <td>506.0</td>\n",
       "      <td>1276.0</td>\n",
       "      <td>491.0</td>\n",
       "      <td>8.0069</td>\n",
       "      <td>NEAR BAY</td>\n",
       "    </tr>\n",
       "    <tr>\n",
       "      <th>17131</th>\n",
       "      <td>-122.15</td>\n",
       "      <td>37.46</td>\n",
       "      <td>30.0</td>\n",
       "      <td>4198.0</td>\n",
       "      <td>1244.0</td>\n",
       "      <td>2678.0</td>\n",
       "      <td>1147.0</td>\n",
       "      <td>3.6712</td>\n",
       "      <td>NEAR BAY</td>\n",
       "    </tr>\n",
       "    <tr>\n",
       "      <th>11752</th>\n",
       "      <td>-121.21</td>\n",
       "      <td>38.76</td>\n",
       "      <td>16.0</td>\n",
       "      <td>1608.0</td>\n",
       "      <td>296.0</td>\n",
       "      <td>792.0</td>\n",
       "      <td>286.0</td>\n",
       "      <td>3.1583</td>\n",
       "      <td>INLAND</td>\n",
       "    </tr>\n",
       "    <tr>\n",
       "      <th>2308</th>\n",
       "      <td>-119.75</td>\n",
       "      <td>36.83</td>\n",
       "      <td>15.0</td>\n",
       "      <td>2793.0</td>\n",
       "      <td>436.0</td>\n",
       "      <td>1411.0</td>\n",
       "      <td>441.0</td>\n",
       "      <td>4.9292</td>\n",
       "      <td>INLAND</td>\n",
       "    </tr>\n",
       "  </tbody>\n",
       "</table>\n",
       "</div>"
      ],
      "text/plain": [
       "       longitude  latitude  housing_median_age  total_rooms  total_bedrooms  \\\n",
       "5564     -118.29     33.91                41.0       2475.0           532.0   \n",
       "16016    -122.46     37.73                52.0       3547.0           506.0   \n",
       "17131    -122.15     37.46                30.0       4198.0          1244.0   \n",
       "11752    -121.21     38.76                16.0       1608.0           296.0   \n",
       "2308     -119.75     36.83                15.0       2793.0           436.0   \n",
       "\n",
       "       population  households  median_income ocean_proximity  \n",
       "5564       1416.0       470.0         3.8372       <1H OCEAN  \n",
       "16016      1276.0       491.0         8.0069        NEAR BAY  \n",
       "17131      2678.0      1147.0         3.6712        NEAR BAY  \n",
       "11752       792.0       286.0         3.1583          INLAND  \n",
       "2308       1411.0       441.0         4.9292          INLAND  "
      ]
     },
     "execution_count": 14,
     "metadata": {},
     "output_type": "execute_result"
    }
   ],
   "source": [
    "x_train.head()"
   ]
  },
  {
   "cell_type": "markdown",
   "id": "d17fed19",
   "metadata": {},
   "source": [
    "##### Los NaN son los valores nulos que hay que eliminar"
   ]
  },
  {
   "cell_type": "code",
   "execution_count": 15,
   "id": "f7a5b875",
   "metadata": {},
   "outputs": [
    {
     "name": "stdout",
     "output_type": "stream",
     "text": [
      "Index(['housing_median_age', 'total_rooms', 'ocean_proximity'], dtype='object')\n"
     ]
    }
   ],
   "source": [
    "columns_with_nulls = x_train.columns[x_train.isnull().any()]\n",
    "print(columns_with_nulls)"
   ]
  },
  {
   "cell_type": "code",
   "execution_count": 16,
   "id": "78b1897f",
   "metadata": {},
   "outputs": [
    {
     "data": {
      "text/plain": [
       "longitude               0\n",
       "latitude                0\n",
       "housing_median_age      3\n",
       "total_rooms             3\n",
       "total_bedrooms        207\n",
       "population              0\n",
       "households              0\n",
       "median_income           0\n",
       "median_house_value      0\n",
       "ocean_proximity         3\n",
       "dtype: int64"
      ]
     },
     "execution_count": 16,
     "metadata": {},
     "output_type": "execute_result"
    }
   ],
   "source": [
    "df.isnull().sum()"
   ]
  },
  {
   "cell_type": "markdown",
   "id": "6ea3f013",
   "metadata": {},
   "source": [
    "#### Estas son las columnas con valores nulos"
   ]
  },
  {
   "cell_type": "markdown",
   "id": "37712604",
   "metadata": {},
   "source": [
    "### 4.1.- Imputar"
   ]
  },
  {
   "cell_type": "code",
   "execution_count": 17,
   "id": "06305d60",
   "metadata": {},
   "outputs": [],
   "source": [
    "#para imputar los datos importamos simpleimputer\n",
    "from sklearn.impute import SimpleImputer\n",
    "\n",
    "# seleccionamos las columnas numericas\n",
    "numeric_columns = x_train.select_dtypes(include=['number']).columns\n",
    "\n",
    "# seleccionamos las categorias\n",
    "cat_columns = x_train.select_dtypes(include=['object']).columns\n",
    "\n",
    "# Imputamos valores numéricos con la mediana\n",
    "numeric_imputer = SimpleImputer(strategy='median')# instanciamos ese imputador numerico\n",
    "x_train[numeric_columns] = numeric_imputer.fit_transform(x_train[numeric_columns])\n",
    "\n",
    "# Imputamos las categorias con el valor mas frecuente\n",
    "imputer_categorical = SimpleImputer(strategy='most_frequent')# instanciamos ese imputador categorico\n",
    "x_train[cat_columns] = imputer_categorical.fit_transform(x_train[cat_columns])"
   ]
  },
  {
   "cell_type": "markdown",
   "id": "c256f0ea",
   "metadata": {},
   "source": [
    "#### Los valores nulos se han eliminado, en cambio esta la media y la categoria mas frecuente"
   ]
  },
  {
   "cell_type": "code",
   "execution_count": 18,
   "id": "9bb40459",
   "metadata": {},
   "outputs": [
    {
     "name": "stdout",
     "output_type": "stream",
     "text": [
      "Index([], dtype='object')\n"
     ]
    }
   ],
   "source": [
    "columns_with_nulls = x_train.columns[x_train.isnull().any()]\n",
    "print(columns_with_nulls)"
   ]
  },
  {
   "cell_type": "markdown",
   "id": "bc1eb690",
   "metadata": {},
   "source": [
    "### 4.2.- Normalizar"
   ]
  },
  {
   "cell_type": "markdown",
   "id": "a19b7419",
   "metadata": {},
   "source": [
    "#### Ahora vamos a normalizar los datos, es decir, vamos a hacer que los valores no tengan mucha diferencia entre si, sino que tengan una escala entre 0 y 1"
   ]
  },
  {
   "cell_type": "code",
   "execution_count": 19,
   "id": "b67bea65",
   "metadata": {},
   "outputs": [
    {
     "data": {
      "text/html": [
       "<div>\n",
       "<style scoped>\n",
       "    .dataframe tbody tr th:only-of-type {\n",
       "        vertical-align: middle;\n",
       "    }\n",
       "\n",
       "    .dataframe tbody tr th {\n",
       "        vertical-align: top;\n",
       "    }\n",
       "\n",
       "    .dataframe thead th {\n",
       "        text-align: right;\n",
       "    }\n",
       "</style>\n",
       "<table border=\"1\" class=\"dataframe\">\n",
       "  <thead>\n",
       "    <tr style=\"text-align: right;\">\n",
       "      <th></th>\n",
       "      <th>longitude</th>\n",
       "      <th>latitude</th>\n",
       "      <th>housing_median_age</th>\n",
       "      <th>total_rooms</th>\n",
       "      <th>total_bedrooms</th>\n",
       "      <th>population</th>\n",
       "      <th>households</th>\n",
       "      <th>median_income</th>\n",
       "      <th>ocean_proximity</th>\n",
       "    </tr>\n",
       "  </thead>\n",
       "  <tbody>\n",
       "    <tr>\n",
       "      <th>5564</th>\n",
       "      <td>0.603586</td>\n",
       "      <td>0.144681</td>\n",
       "      <td>0.784314</td>\n",
       "      <td>0.062897</td>\n",
       "      <td>0.082402</td>\n",
       "      <td>0.039603</td>\n",
       "      <td>0.077125</td>\n",
       "      <td>0.230155</td>\n",
       "      <td>&lt;1H OCEAN</td>\n",
       "    </tr>\n",
       "    <tr>\n",
       "      <th>16016</th>\n",
       "      <td>0.188247</td>\n",
       "      <td>0.551064</td>\n",
       "      <td>1.000000</td>\n",
       "      <td>0.090162</td>\n",
       "      <td>0.078367</td>\n",
       "      <td>0.035679</td>\n",
       "      <td>0.080579</td>\n",
       "      <td>0.517717</td>\n",
       "      <td>NEAR BAY</td>\n",
       "    </tr>\n",
       "    <tr>\n",
       "      <th>17131</th>\n",
       "      <td>0.219124</td>\n",
       "      <td>0.522340</td>\n",
       "      <td>0.568627</td>\n",
       "      <td>0.106720</td>\n",
       "      <td>0.192893</td>\n",
       "      <td>0.074974</td>\n",
       "      <td>0.188456</td>\n",
       "      <td>0.218707</td>\n",
       "      <td>NEAR BAY</td>\n",
       "    </tr>\n",
       "    <tr>\n",
       "      <th>11752</th>\n",
       "      <td>0.312749</td>\n",
       "      <td>0.660638</td>\n",
       "      <td>0.294118</td>\n",
       "      <td>0.040846</td>\n",
       "      <td>0.045779</td>\n",
       "      <td>0.022114</td>\n",
       "      <td>0.046867</td>\n",
       "      <td>0.183335</td>\n",
       "      <td>INLAND</td>\n",
       "    </tr>\n",
       "    <tr>\n",
       "      <th>2308</th>\n",
       "      <td>0.458167</td>\n",
       "      <td>0.455319</td>\n",
       "      <td>0.274510</td>\n",
       "      <td>0.070985</td>\n",
       "      <td>0.067505</td>\n",
       "      <td>0.039463</td>\n",
       "      <td>0.072357</td>\n",
       "      <td>0.305465</td>\n",
       "      <td>INLAND</td>\n",
       "    </tr>\n",
       "  </tbody>\n",
       "</table>\n",
       "</div>"
      ],
      "text/plain": [
       "       longitude  latitude  housing_median_age  total_rooms  total_bedrooms  \\\n",
       "5564    0.603586  0.144681            0.784314     0.062897        0.082402   \n",
       "16016   0.188247  0.551064            1.000000     0.090162        0.078367   \n",
       "17131   0.219124  0.522340            0.568627     0.106720        0.192893   \n",
       "11752   0.312749  0.660638            0.294118     0.040846        0.045779   \n",
       "2308    0.458167  0.455319            0.274510     0.070985        0.067505   \n",
       "\n",
       "       population  households  median_income ocean_proximity  \n",
       "5564     0.039603    0.077125       0.230155       <1H OCEAN  \n",
       "16016    0.035679    0.080579       0.517717        NEAR BAY  \n",
       "17131    0.074974    0.188456       0.218707        NEAR BAY  \n",
       "11752    0.022114    0.046867       0.183335          INLAND  \n",
       "2308     0.039463    0.072357       0.305465          INLAND  "
      ]
     },
     "execution_count": 19,
     "metadata": {},
     "output_type": "execute_result"
    }
   ],
   "source": [
    "# lo haremos con minmaxscaler\n",
    "\n",
    "# Creamos un objeto MinMaxScaler\n",
    "scaler = MinMaxScaler()\n",
    "\n",
    "# Seleccionamos solo las columnas numéricas para la normalización\n",
    "numeric_cols = x_train.select_dtypes(include='number').columns\n",
    "\n",
    "# Normalizar las columnas numéricas\n",
    "x_train[numeric_cols] = scaler.fit_transform(x_train[numeric_cols])\n",
    "\n",
    "# Ahora, el df contiene las columnas numéricas normalizadas\n",
    "x_train.head()"
   ]
  },
  {
   "cell_type": "markdown",
   "id": "1989e97d",
   "metadata": {},
   "source": [
    "### 4.3.- Codificar"
   ]
  },
  {
   "cell_type": "markdown",
   "id": "08d107b0",
   "metadata": {},
   "source": [
    "#### El ultimo paso seria codificarlo, es decir, convertir las categorias (letras), en números"
   ]
  },
  {
   "cell_type": "code",
   "execution_count": 20,
   "id": "b576fa5f",
   "metadata": {},
   "outputs": [],
   "source": [
    "# Aplicar One-Hot Encoding a las columnas categóricas en x_train\n",
    "x_train = pd.get_dummies(x_train, columns=['ocean_proximity'], dtype=float)"
   ]
  },
  {
   "cell_type": "markdown",
   "id": "647d1d47",
   "metadata": {},
   "source": [
    "#### ok, x_train ya esta, ahora hay que hacer lo mismo con x_test"
   ]
  },
  {
   "cell_type": "markdown",
   "id": "81397619",
   "metadata": {},
   "source": [
    "#### Lo se, es un coñaso empezar de nuevo, pues por eso estan los pipelines que lo usaremos en otro momento"
   ]
  },
  {
   "cell_type": "code",
   "execution_count": 21,
   "id": "f62859f6",
   "metadata": {},
   "outputs": [],
   "source": [
    "#para imputar los datos importamos simpleimputer\n",
    "from sklearn.impute import SimpleImputer\n",
    "\n",
    "# seleccionamos las columnas numericas\n",
    "numeric_columns = x_test.select_dtypes(include=['number']).columns\n",
    "\n",
    "# seleccionamos las categorias\n",
    "cat_columns = x_test.select_dtypes(include=['object']).columns\n",
    "\n",
    "# Imputamos valores numéricos con la mediana\n",
    "numeric_imputer = SimpleImputer(strategy='median')# instanciamos ese imputador numerico\n",
    "x_test[numeric_columns] = numeric_imputer.fit_transform(x_test[numeric_columns])\n",
    "\n",
    "# Imputamos las categorias con el valor mas frecuente\n",
    "imputer_categorical = SimpleImputer(strategy='most_frequent')# instanciamos ese imputador categorico\n",
    "x_test[cat_columns] = imputer_categorical.fit_transform(x_test[cat_columns])"
   ]
  },
  {
   "cell_type": "code",
   "execution_count": 22,
   "id": "2ff9e5da",
   "metadata": {},
   "outputs": [],
   "source": [
    "# Creamos un objeto MinMaxScaler\n",
    "scaler = MinMaxScaler()\n",
    "\n",
    "# Seleccionamos solo las columnas numéricas para la normalización\n",
    "numeric_cols = x_test.select_dtypes(include='number').columns\n",
    "\n",
    "# Normalizar las columnas numéricas\n",
    "x_test[numeric_cols] = scaler.fit_transform(x_test[numeric_cols])\n",
    "\n",
    "# Ahora, el df contiene las columnas numéricas normalizadas"
   ]
  },
  {
   "cell_type": "code",
   "execution_count": 23,
   "id": "808422c6",
   "metadata": {},
   "outputs": [],
   "source": [
    "# Aplicar One-Hot Encoding a las columnas categóricas en x_test\n",
    "x_test = pd.get_dummies(x_test, columns=['ocean_proximity'], dtype=float)"
   ]
  },
  {
   "cell_type": "code",
   "execution_count": 24,
   "id": "cfc62e15",
   "metadata": {},
   "outputs": [],
   "source": [
    "# Alinear las columnas de x_test con x_train\n",
    "x_train, x_test = x_train.align(x_test, join='right', axis=1)"
   ]
  },
  {
   "cell_type": "markdown",
   "id": "3f6275de",
   "metadata": {},
   "source": [
    "## 5.- Entrenamiento"
   ]
  },
  {
   "cell_type": "code",
   "execution_count": 25,
   "id": "2df61b4f",
   "metadata": {
    "scrolled": false
   },
   "outputs": [
    {
     "data": {
      "text/html": [
       "<style>#sk-container-id-1 {color: black;background-color: white;}#sk-container-id-1 pre{padding: 0;}#sk-container-id-1 div.sk-toggleable {background-color: white;}#sk-container-id-1 label.sk-toggleable__label {cursor: pointer;display: block;width: 100%;margin-bottom: 0;padding: 0.3em;box-sizing: border-box;text-align: center;}#sk-container-id-1 label.sk-toggleable__label-arrow:before {content: \"▸\";float: left;margin-right: 0.25em;color: #696969;}#sk-container-id-1 label.sk-toggleable__label-arrow:hover:before {color: black;}#sk-container-id-1 div.sk-estimator:hover label.sk-toggleable__label-arrow:before {color: black;}#sk-container-id-1 div.sk-toggleable__content {max-height: 0;max-width: 0;overflow: hidden;text-align: left;background-color: #f0f8ff;}#sk-container-id-1 div.sk-toggleable__content pre {margin: 0.2em;color: black;border-radius: 0.25em;background-color: #f0f8ff;}#sk-container-id-1 input.sk-toggleable__control:checked~div.sk-toggleable__content {max-height: 200px;max-width: 100%;overflow: auto;}#sk-container-id-1 input.sk-toggleable__control:checked~label.sk-toggleable__label-arrow:before {content: \"▾\";}#sk-container-id-1 div.sk-estimator input.sk-toggleable__control:checked~label.sk-toggleable__label {background-color: #d4ebff;}#sk-container-id-1 div.sk-label input.sk-toggleable__control:checked~label.sk-toggleable__label {background-color: #d4ebff;}#sk-container-id-1 input.sk-hidden--visually {border: 0;clip: rect(1px 1px 1px 1px);clip: rect(1px, 1px, 1px, 1px);height: 1px;margin: -1px;overflow: hidden;padding: 0;position: absolute;width: 1px;}#sk-container-id-1 div.sk-estimator {font-family: monospace;background-color: #f0f8ff;border: 1px dotted black;border-radius: 0.25em;box-sizing: border-box;margin-bottom: 0.5em;}#sk-container-id-1 div.sk-estimator:hover {background-color: #d4ebff;}#sk-container-id-1 div.sk-parallel-item::after {content: \"\";width: 100%;border-bottom: 1px solid gray;flex-grow: 1;}#sk-container-id-1 div.sk-label:hover label.sk-toggleable__label {background-color: #d4ebff;}#sk-container-id-1 div.sk-serial::before {content: \"\";position: absolute;border-left: 1px solid gray;box-sizing: border-box;top: 0;bottom: 0;left: 50%;z-index: 0;}#sk-container-id-1 div.sk-serial {display: flex;flex-direction: column;align-items: center;background-color: white;padding-right: 0.2em;padding-left: 0.2em;position: relative;}#sk-container-id-1 div.sk-item {position: relative;z-index: 1;}#sk-container-id-1 div.sk-parallel {display: flex;align-items: stretch;justify-content: center;background-color: white;position: relative;}#sk-container-id-1 div.sk-item::before, #sk-container-id-1 div.sk-parallel-item::before {content: \"\";position: absolute;border-left: 1px solid gray;box-sizing: border-box;top: 0;bottom: 0;left: 50%;z-index: -1;}#sk-container-id-1 div.sk-parallel-item {display: flex;flex-direction: column;z-index: 1;position: relative;background-color: white;}#sk-container-id-1 div.sk-parallel-item:first-child::after {align-self: flex-end;width: 50%;}#sk-container-id-1 div.sk-parallel-item:last-child::after {align-self: flex-start;width: 50%;}#sk-container-id-1 div.sk-parallel-item:only-child::after {width: 0;}#sk-container-id-1 div.sk-dashed-wrapped {border: 1px dashed gray;margin: 0 0.4em 0.5em 0.4em;box-sizing: border-box;padding-bottom: 0.4em;background-color: white;}#sk-container-id-1 div.sk-label label {font-family: monospace;font-weight: bold;display: inline-block;line-height: 1.2em;}#sk-container-id-1 div.sk-label-container {text-align: center;}#sk-container-id-1 div.sk-container {/* jupyter's `normalize.less` sets `[hidden] { display: none; }` but bootstrap.min.css set `[hidden] { display: none !important; }` so we also need the `!important` here to be able to override the default hidden behavior on the sphinx rendered scikit-learn.org. See: https://github.com/scikit-learn/scikit-learn/issues/21755 */display: inline-block !important;position: relative;}#sk-container-id-1 div.sk-text-repr-fallback {display: none;}</style><div id=\"sk-container-id-1\" class=\"sk-top-container\"><div class=\"sk-text-repr-fallback\"><pre>LinearRegression()</pre><b>In a Jupyter environment, please rerun this cell to show the HTML representation or trust the notebook. <br />On GitHub, the HTML representation is unable to render, please try loading this page with nbviewer.org.</b></div><div class=\"sk-container\" hidden><div class=\"sk-item\"><div class=\"sk-estimator sk-toggleable\"><input class=\"sk-toggleable__control sk-hidden--visually\" id=\"sk-estimator-id-1\" type=\"checkbox\" checked><label for=\"sk-estimator-id-1\" class=\"sk-toggleable__label sk-toggleable__label-arrow\">LinearRegression</label><div class=\"sk-toggleable__content\"><pre>LinearRegression()</pre></div></div></div></div></div>"
      ],
      "text/plain": [
       "LinearRegression()"
      ]
     },
     "execution_count": 25,
     "metadata": {},
     "output_type": "execute_result"
    }
   ],
   "source": [
    "model = LinearRegression()\n",
    "model.fit(x_train, y_train)"
   ]
  },
  {
   "cell_type": "markdown",
   "id": "c1d0c8ff",
   "metadata": {},
   "source": [
    "##### Ya tenemos el modelo 🎉\n",
    "##### Ahora solo nos toca predecir nuevos valores y ver quetal se comporta este modelo"
   ]
  },
  {
   "cell_type": "code",
   "execution_count": 26,
   "id": "b391a9ca",
   "metadata": {},
   "outputs": [],
   "source": [
    "# Ahora haremos algunas predicciones con nuestro conjunto de datos de test\n",
    "y_pred = model.predict(x_test)"
   ]
  },
  {
   "cell_type": "code",
   "execution_count": 27,
   "id": "46fee4f8",
   "metadata": {},
   "outputs": [
    {
     "data": {
      "text/plain": [
       "array([-69811.22498087, -18552.9983256 , 137745.92401758, 110465.16802818,\n",
       "       169589.87558401])"
      ]
     },
     "execution_count": 27,
     "metadata": {},
     "output_type": "execute_result"
    }
   ],
   "source": [
    "# Estas son las 5 primeras predicciones de mi modelo para los datos x_test\n",
    "y_pred[0:5]"
   ]
  },
  {
   "cell_type": "markdown",
   "id": "bc41bdc2",
   "metadata": {},
   "source": [
    "## 6.- Evaluación"
   ]
  },
  {
   "cell_type": "markdown",
   "id": "457aae04",
   "metadata": {},
   "source": [
    "#### Vamos a evaluar nuestro modelo para ver que tal rinde"
   ]
  },
  {
   "cell_type": "code",
   "execution_count": 28,
   "id": "c5e9571b",
   "metadata": {},
   "outputs": [
    {
     "name": "stdout",
     "output_type": "stream",
     "text": [
      "Error Cuadrático Medio (MSE): 30141873791.13874\n",
      "Coeficiente de Determinación (R²): -1.2601726381734655\n"
     ]
    }
   ],
   "source": [
    "from sklearn.metrics import mean_squared_error, r2_score\n",
    "\n",
    "# Calcular el error cuadrático medio (MSE)\n",
    "mse = mean_squared_error(y_test, y_pred)\n",
    "print(f\"Error Cuadrático Medio (MSE): {mse}\")\n",
    "\n",
    "# Calcular el coeficiente de determinación (R²)\n",
    "r2 = r2_score(y_test, y_pred)\n",
    "print(f\"Coeficiente de Determinación (R²): {r2}\")"
   ]
  },
  {
   "cell_type": "code",
   "execution_count": 34,
   "id": "e198f714",
   "metadata": {},
   "outputs": [
    {
     "data": {
      "image/png": "[encoded data removed]",
      "text/plain": [
       "<Figure size 640x480 with 1 Axes>"
      ]
     },
     "metadata": {},
     "output_type": "display_data"
    }
   ],
   "source": [
    "# Visualizar predicciones frente a valores reales\n",
    "plt.scatter(y_test, y_pred)\n",
    "plt.title('Predicted vs Actual Values')\n",
    "plt.xlabel('Actual Values')\n",
    "plt.ylabel('Predicted Values')\n",
    "plt.show()"
   ]
  },
  {
   "cell_type": "code",
   "execution_count": null,
   "id": "d38ca5a7",
   "metadata": {},
   "outputs": [],
   "source": []
  }
 ],
 "metadata": {
  "kernelspec": {
   "display_name": "Python 3 (ipykernel)",
   "language": "python",
   "name": "python3"
  },
  "language_info": {
   "codemirror_mode": {
    "name": "ipython",
    "version": 3
   },
   "file_extension": ".py",
   "mimetype": "text/x-python",
   "name": "python",
   "nbconvert_exporter": "python",
   "pygments_lexer": "ipython3",
   "version": "3.11.5"
  }
 },
 "nbformat": 4,
 "nbformat_minor": 5
}
