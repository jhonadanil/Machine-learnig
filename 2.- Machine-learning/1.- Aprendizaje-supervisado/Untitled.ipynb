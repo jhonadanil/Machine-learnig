{
 "cells": [
  {
   "cell_type": "code",
   "execution_count": 1,
   "id": "681f25fc",
   "metadata": {},
   "outputs": [
    {
     "ename": "ValueError",
     "evalue": "Shape of the passed X data is not correct. Expected 4 columns, got 5.",
     "output_type": "error",
     "traceback": [
      "\u001b[1;31m---------------------------------------------------------------------------\u001b[0m",
      "\u001b[1;31mValueError\u001b[0m                                Traceback (most recent call last)",
      "Cell \u001b[1;32mIn[1], line 46\u001b[0m\n\u001b[0;32m     42\u001b[0m df_restored \u001b[38;5;241m=\u001b[39m pd\u001b[38;5;241m.\u001b[39mDataFrame(pipeline\u001b[38;5;241m.\u001b[39mnamed_steps[\u001b[38;5;124m'\u001b[39m\u001b[38;5;124mpreprocessor\u001b[39m\u001b[38;5;124m'\u001b[39m]\u001b[38;5;241m.\u001b[39mtransformers_[\u001b[38;5;241m0\u001b[39m][\u001b[38;5;241m1\u001b[39m]\u001b[38;5;241m.\u001b[39mnamed_steps[\u001b[38;5;124m'\u001b[39m\u001b[38;5;124mimputer\u001b[39m\u001b[38;5;124m'\u001b[39m]\u001b[38;5;241m.\u001b[39minverse_transform(df_transformed[:, :\u001b[38;5;241m2\u001b[39m]),\n\u001b[0;32m     43\u001b[0m                            columns\u001b[38;5;241m=\u001b[39mnumeric_features)\n\u001b[0;32m     45\u001b[0m \u001b[38;5;66;03m# Añadir las columnas categóricas al DataFrame restaurado\u001b[39;00m\n\u001b[1;32m---> 46\u001b[0m df_restored[categorical_features] \u001b[38;5;241m=\u001b[39m pipeline\u001b[38;5;241m.\u001b[39mnamed_steps[\u001b[38;5;124m'\u001b[39m\u001b[38;5;124mpreprocessor\u001b[39m\u001b[38;5;124m'\u001b[39m]\u001b[38;5;241m.\u001b[39mtransformers_[\u001b[38;5;241m1\u001b[39m][\u001b[38;5;241m1\u001b[39m]\u001b[38;5;241m.\u001b[39mnamed_steps[\u001b[38;5;124m'\u001b[39m\u001b[38;5;124monehot\u001b[39m\u001b[38;5;124m'\u001b[39m]\u001b[38;5;241m.\u001b[39minverse_transform(df_transformed[:, \u001b[38;5;241m2\u001b[39m:])\n\u001b[0;32m     48\u001b[0m \u001b[38;5;66;03m# Mostrar los DataFrames\u001b[39;00m\n\u001b[0;32m     49\u001b[0m \u001b[38;5;28mprint\u001b[39m(\u001b[38;5;124m\"\u001b[39m\u001b[38;5;124mDataFrame original:\u001b[39m\u001b[38;5;124m\"\u001b[39m)\n",
      "File \u001b[1;32m~\\anaconda3\\Lib\\site-packages\\sklearn\\preprocessing\\_encoders.py:998\u001b[0m, in \u001b[0;36mOneHotEncoder.inverse_transform\u001b[1;34m(self, X)\u001b[0m\n\u001b[0;32m    994\u001b[0m msg \u001b[38;5;241m=\u001b[39m (\n\u001b[0;32m    995\u001b[0m     \u001b[38;5;124m\"\u001b[39m\u001b[38;5;124mShape of the passed X data is not correct. Expected \u001b[39m\u001b[38;5;132;01m{0}\u001b[39;00m\u001b[38;5;124m columns, got \u001b[39m\u001b[38;5;132;01m{1}\u001b[39;00m\u001b[38;5;124m.\u001b[39m\u001b[38;5;124m\"\u001b[39m\n\u001b[0;32m    996\u001b[0m )\n\u001b[0;32m    997\u001b[0m \u001b[38;5;28;01mif\u001b[39;00m X\u001b[38;5;241m.\u001b[39mshape[\u001b[38;5;241m1\u001b[39m] \u001b[38;5;241m!=\u001b[39m n_features_out:\n\u001b[1;32m--> 998\u001b[0m     \u001b[38;5;28;01mraise\u001b[39;00m \u001b[38;5;167;01mValueError\u001b[39;00m(msg\u001b[38;5;241m.\u001b[39mformat(n_features_out, X\u001b[38;5;241m.\u001b[39mshape[\u001b[38;5;241m1\u001b[39m]))\n\u001b[0;32m   1000\u001b[0m transformed_features \u001b[38;5;241m=\u001b[39m [\n\u001b[0;32m   1001\u001b[0m     \u001b[38;5;28mself\u001b[39m\u001b[38;5;241m.\u001b[39m_compute_transformed_categories(i, remove_dropped\u001b[38;5;241m=\u001b[39m\u001b[38;5;28;01mFalse\u001b[39;00m)\n\u001b[0;32m   1002\u001b[0m     \u001b[38;5;28;01mfor\u001b[39;00m i, _ \u001b[38;5;129;01min\u001b[39;00m \u001b[38;5;28menumerate\u001b[39m(\u001b[38;5;28mself\u001b[39m\u001b[38;5;241m.\u001b[39mcategories_)\n\u001b[0;32m   1003\u001b[0m ]\n\u001b[0;32m   1005\u001b[0m \u001b[38;5;66;03m# create resulting array of appropriate dtype\u001b[39;00m\n",
      "\u001b[1;31mValueError\u001b[0m: Shape of the passed X data is not correct. Expected 4 columns, got 5."
     ]
    }
   ],
   "source": [
    "import pandas as pd\n",
    "from sklearn.compose import ColumnTransformer\n",
    "from sklearn.impute import SimpleImputer\n",
    "from sklearn.preprocessing import OneHotEncoder\n",
    "from sklearn.pipeline import Pipeline\n",
    "\n",
    "# Crear un DataFrame de ejemplo\n",
    "data = {'col1': [1, 2, None, 4, 5],\n",
    "        'col2': ['A', 'B', 'C', None, 'A'],\n",
    "        'col3': [10, 20, 30, 40, 50]}\n",
    "df = pd.DataFrame(data)\n",
    "\n",
    "# Definir las columnas que necesitan ser imputadas y codificadas\n",
    "numeric_features = ['col1', 'col3']\n",
    "categorical_features = ['col2']\n",
    "\n",
    "# Crear un preprocesador para datos numéricos\n",
    "numeric_transformer = Pipeline(steps=[\n",
    "    ('imputer', SimpleImputer(strategy='mean', add_indicator=True))\n",
    "])\n",
    "\n",
    "# Crear un preprocesador para datos categóricos\n",
    "categorical_transformer = Pipeline(steps=[\n",
    "    ('imputer', SimpleImputer(strategy='most_frequent', add_indicator=True)),\n",
    "    ('onehot', OneHotEncoder(handle_unknown='ignore'))\n",
    "])\n",
    "\n",
    "# Crear un column transformer que aplica preprocesadores a columnas específicas\n",
    "preprocessor = ColumnTransformer(\n",
    "    transformers=[\n",
    "        ('num', numeric_transformer, numeric_features),\n",
    "        ('cat', categorical_transformer, categorical_features)\n",
    "    ])\n",
    "\n",
    "# Crear el pipeline completo con el preprocesador y cualquier otro paso necesario\n",
    "pipeline = Pipeline(steps=[('preprocessor', preprocessor)])\n",
    "\n",
    "# Ajustar y transformar el DataFrame original\n",
    "df_transformed = pipeline.fit_transform(df)\n",
    "\n",
    "# Revertir la transformación para obtener un nuevo DataFrame\n",
    "df_restored = pd.DataFrame(pipeline.named_steps['preprocessor'].transformers_[0][1].named_steps['imputer'].inverse_transform(df_transformed[:, :2]),\n",
    "                           columns=numeric_features)\n",
    "\n",
    "# Añadir las columnas categóricas al DataFrame restaurado\n",
    "df_restored[categorical_features] = pipeline.named_steps['preprocessor'].transformers_[1][1].named_steps['onehot'].inverse_transform(df_transformed[:, 2:])\n",
    "\n",
    "# Mostrar los DataFrames\n",
    "print(\"DataFrame original:\")\n",
    "print(df)\n",
    "print(\"\\nDataFrame transformado:\")\n",
    "print(df_transformed)\n",
    "print(\"\\nDataFrame restaurado:\")\n",
    "print(df_restored)\n"
   ]
  },
  {
   "cell_type": "code",
   "execution_count": null,
   "id": "0b90febb",
   "metadata": {},
   "outputs": [],
   "source": []
  }
 ],
 "metadata": {
  "kernelspec": {
   "display_name": "Python 3 (ipykernel)",
   "language": "python",
   "name": "python3"
  },
  "language_info": {
   "codemirror_mode": {
    "name": "ipython",
    "version": 3
   },
   "file_extension": ".py",
   "mimetype": "text/x-python",
   "name": "python",
   "nbconvert_exporter": "python",
   "pygments_lexer": "ipython3",
   "version": "3.11.5"
  }
 },
 "nbformat": 4,
 "nbformat_minor": 5
}
