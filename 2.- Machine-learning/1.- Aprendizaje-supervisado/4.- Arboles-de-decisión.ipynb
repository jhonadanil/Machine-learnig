{
 "cells": [
  {
   "cell_type": "markdown",
   "id": "3ecd0847",
   "metadata": {},
   "source": [
    "## **1.- Recopilación de Datos**"
   ]
  },
  {
   "cell_type": "code",
   "execution_count": 1,
   "id": "aceb7785",
   "metadata": {},
   "outputs": [],
   "source": [
    "import pandas as pd\n",
    "import numpy as np\n",
    "import matplotlib.pyplot as plt\n",
    "import seaborn as sns"
   ]
  },
  {
   "cell_type": "markdown",
   "id": "d3e75814",
   "metadata": {},
   "source": [
    "Este conjunto de datos lo enconte en:https://www.kaggle.com/datasets/fedesoriano/cirrhosis-prediction-dataset"
   ]
  },
  {
   "cell_type": "code",
   "execution_count": 2,
   "id": "5a952a9b",
   "metadata": {},
   "outputs": [],
   "source": [
    "df = pd.read_csv('../../3.- Datasets/Cirrhosis.csv', index_col=0)"
   ]
  },
  {
   "cell_type": "markdown",
   "id": "a928ab71",
   "metadata": {},
   "source": [
    "## **2.- Exploración y Análisis de Datos**"
   ]
  },
  {
   "cell_type": "code",
   "execution_count": 3,
   "id": "08c13846",
   "metadata": {
    "scrolled": false
   },
   "outputs": [
    {
     "data": {
      "text/html": [
       "<div>\n",
       "<style scoped>\n",
       "    .dataframe tbody tr th:only-of-type {\n",
       "        vertical-align: middle;\n",
       "    }\n",
       "\n",
       "    .dataframe tbody tr th {\n",
       "        vertical-align: top;\n",
       "    }\n",
       "\n",
       "    .dataframe thead th {\n",
       "        text-align: right;\n",
       "    }\n",
       "</style>\n",
       "<table border=\"1\" class=\"dataframe\">\n",
       "  <thead>\n",
       "    <tr style=\"text-align: right;\">\n",
       "      <th></th>\n",
       "      <th>N_Days</th>\n",
       "      <th>Status</th>\n",
       "      <th>Drug</th>\n",
       "      <th>Age</th>\n",
       "      <th>Sex</th>\n",
       "      <th>Ascites</th>\n",
       "      <th>Hepatomegaly</th>\n",
       "      <th>Spiders</th>\n",
       "      <th>Edema</th>\n",
       "      <th>Bilirubin</th>\n",
       "      <th>Cholesterol</th>\n",
       "      <th>Albumin</th>\n",
       "      <th>Copper</th>\n",
       "      <th>Alk_Phos</th>\n",
       "      <th>SGOT</th>\n",
       "      <th>Tryglicerides</th>\n",
       "      <th>Platelets</th>\n",
       "      <th>Prothrombin</th>\n",
       "      <th>Stage</th>\n",
       "    </tr>\n",
       "    <tr>\n",
       "      <th>ID</th>\n",
       "      <th></th>\n",
       "      <th></th>\n",
       "      <th></th>\n",
       "      <th></th>\n",
       "      <th></th>\n",
       "      <th></th>\n",
       "      <th></th>\n",
       "      <th></th>\n",
       "      <th></th>\n",
       "      <th></th>\n",
       "      <th></th>\n",
       "      <th></th>\n",
       "      <th></th>\n",
       "      <th></th>\n",
       "      <th></th>\n",
       "      <th></th>\n",
       "      <th></th>\n",
       "      <th></th>\n",
       "      <th></th>\n",
       "    </tr>\n",
       "  </thead>\n",
       "  <tbody>\n",
       "    <tr>\n",
       "      <th>1</th>\n",
       "      <td>400</td>\n",
       "      <td>D</td>\n",
       "      <td>D-penicillamine</td>\n",
       "      <td>21464</td>\n",
       "      <td>F</td>\n",
       "      <td>Y</td>\n",
       "      <td>Y</td>\n",
       "      <td>Y</td>\n",
       "      <td>Y</td>\n",
       "      <td>14.5</td>\n",
       "      <td>261.0</td>\n",
       "      <td>2.60</td>\n",
       "      <td>156.0</td>\n",
       "      <td>1718.0</td>\n",
       "      <td>137.95</td>\n",
       "      <td>172.0</td>\n",
       "      <td>190.0</td>\n",
       "      <td>12.2</td>\n",
       "      <td>4.0</td>\n",
       "    </tr>\n",
       "    <tr>\n",
       "      <th>2</th>\n",
       "      <td>4500</td>\n",
       "      <td>C</td>\n",
       "      <td>D-penicillamine</td>\n",
       "      <td>20617</td>\n",
       "      <td>F</td>\n",
       "      <td>N</td>\n",
       "      <td>Y</td>\n",
       "      <td>Y</td>\n",
       "      <td>N</td>\n",
       "      <td>1.1</td>\n",
       "      <td>302.0</td>\n",
       "      <td>4.14</td>\n",
       "      <td>54.0</td>\n",
       "      <td>7394.8</td>\n",
       "      <td>113.52</td>\n",
       "      <td>88.0</td>\n",
       "      <td>221.0</td>\n",
       "      <td>10.6</td>\n",
       "      <td>3.0</td>\n",
       "    </tr>\n",
       "    <tr>\n",
       "      <th>3</th>\n",
       "      <td>1012</td>\n",
       "      <td>D</td>\n",
       "      <td>D-penicillamine</td>\n",
       "      <td>25594</td>\n",
       "      <td>M</td>\n",
       "      <td>N</td>\n",
       "      <td>N</td>\n",
       "      <td>N</td>\n",
       "      <td>S</td>\n",
       "      <td>1.4</td>\n",
       "      <td>176.0</td>\n",
       "      <td>3.48</td>\n",
       "      <td>210.0</td>\n",
       "      <td>516.0</td>\n",
       "      <td>96.10</td>\n",
       "      <td>55.0</td>\n",
       "      <td>151.0</td>\n",
       "      <td>12.0</td>\n",
       "      <td>4.0</td>\n",
       "    </tr>\n",
       "    <tr>\n",
       "      <th>4</th>\n",
       "      <td>1925</td>\n",
       "      <td>D</td>\n",
       "      <td>D-penicillamine</td>\n",
       "      <td>19994</td>\n",
       "      <td>F</td>\n",
       "      <td>N</td>\n",
       "      <td>Y</td>\n",
       "      <td>Y</td>\n",
       "      <td>S</td>\n",
       "      <td>1.8</td>\n",
       "      <td>244.0</td>\n",
       "      <td>2.54</td>\n",
       "      <td>64.0</td>\n",
       "      <td>6121.8</td>\n",
       "      <td>60.63</td>\n",
       "      <td>92.0</td>\n",
       "      <td>183.0</td>\n",
       "      <td>10.3</td>\n",
       "      <td>4.0</td>\n",
       "    </tr>\n",
       "    <tr>\n",
       "      <th>5</th>\n",
       "      <td>1504</td>\n",
       "      <td>CL</td>\n",
       "      <td>Placebo</td>\n",
       "      <td>13918</td>\n",
       "      <td>F</td>\n",
       "      <td>N</td>\n",
       "      <td>Y</td>\n",
       "      <td>Y</td>\n",
       "      <td>N</td>\n",
       "      <td>3.4</td>\n",
       "      <td>279.0</td>\n",
       "      <td>3.53</td>\n",
       "      <td>143.0</td>\n",
       "      <td>671.0</td>\n",
       "      <td>113.15</td>\n",
       "      <td>72.0</td>\n",
       "      <td>136.0</td>\n",
       "      <td>10.9</td>\n",
       "      <td>3.0</td>\n",
       "    </tr>\n",
       "  </tbody>\n",
       "</table>\n",
       "</div>"
      ],
      "text/plain": [
       "    N_Days Status             Drug    Age Sex Ascites Hepatomegaly Spiders  \\\n",
       "ID                                                                           \n",
       "1      400      D  D-penicillamine  21464   F       Y            Y       Y   \n",
       "2     4500      C  D-penicillamine  20617   F       N            Y       Y   \n",
       "3     1012      D  D-penicillamine  25594   M       N            N       N   \n",
       "4     1925      D  D-penicillamine  19994   F       N            Y       Y   \n",
       "5     1504     CL          Placebo  13918   F       N            Y       Y   \n",
       "\n",
       "   Edema  Bilirubin  Cholesterol  Albumin  Copper  Alk_Phos    SGOT  \\\n",
       "ID                                                                    \n",
       "1      Y       14.5        261.0     2.60   156.0    1718.0  137.95   \n",
       "2      N        1.1        302.0     4.14    54.0    7394.8  113.52   \n",
       "3      S        1.4        176.0     3.48   210.0     516.0   96.10   \n",
       "4      S        1.8        244.0     2.54    64.0    6121.8   60.63   \n",
       "5      N        3.4        279.0     3.53   143.0     671.0  113.15   \n",
       "\n",
       "    Tryglicerides  Platelets  Prothrombin  Stage  \n",
       "ID                                                \n",
       "1           172.0      190.0         12.2    4.0  \n",
       "2            88.0      221.0         10.6    3.0  \n",
       "3            55.0      151.0         12.0    4.0  \n",
       "4            92.0      183.0         10.3    4.0  \n",
       "5            72.0      136.0         10.9    3.0  "
      ]
     },
     "execution_count": 3,
     "metadata": {},
     "output_type": "execute_result"
    }
   ],
   "source": [
    "df.head()"
   ]
  },
  {
   "cell_type": "code",
   "execution_count": 4,
   "id": "055e031c",
   "metadata": {},
   "outputs": [
    {
     "data": {
      "text/plain": [
       "(418, 19)"
      ]
     },
     "execution_count": 4,
     "metadata": {},
     "output_type": "execute_result"
    }
   ],
   "source": [
    "df.shape"
   ]
  },
  {
   "cell_type": "code",
   "execution_count": 5,
   "id": "c7c9b2f8",
   "metadata": {
    "scrolled": true
   },
   "outputs": [
    {
     "data": {
      "text/plain": [
       "6"
      ]
     },
     "execution_count": 5,
     "metadata": {},
     "output_type": "execute_result"
    }
   ],
   "source": [
    "df['Stage'].isnull().sum()"
   ]
  },
  {
   "cell_type": "code",
   "execution_count": 6,
   "id": "27905f01",
   "metadata": {},
   "outputs": [],
   "source": [
    "df = df.dropna(subset=['Stage'])"
   ]
  },
  {
   "cell_type": "markdown",
   "id": "4d8ebddc",
   "metadata": {},
   "source": [
    "El objetivo es predecir el estadio de la cirrosis (Stage), usando un modelo de arbol de desición"
   ]
  },
  {
   "cell_type": "code",
   "execution_count": 7,
   "id": "343963ed",
   "metadata": {},
   "outputs": [
    {
     "name": "stdout",
     "output_type": "stream",
     "text": [
      "<class 'pandas.core.frame.DataFrame'>\n",
      "Index: 412 entries, 1 to 418\n",
      "Data columns (total 19 columns):\n",
      " #   Column         Non-Null Count  Dtype  \n",
      "---  ------         --------------  -----  \n",
      " 0   N_Days         412 non-null    int64  \n",
      " 1   Status         412 non-null    object \n",
      " 2   Drug           312 non-null    object \n",
      " 3   Age            412 non-null    int64  \n",
      " 4   Sex            412 non-null    object \n",
      " 5   Ascites        312 non-null    object \n",
      " 6   Hepatomegaly   312 non-null    object \n",
      " 7   Spiders        312 non-null    object \n",
      " 8   Edema          412 non-null    object \n",
      " 9   Bilirubin      412 non-null    float64\n",
      " 10  Cholesterol    284 non-null    float64\n",
      " 11  Albumin        412 non-null    float64\n",
      " 12  Copper         310 non-null    float64\n",
      " 13  Alk_Phos       312 non-null    float64\n",
      " 14  SGOT           312 non-null    float64\n",
      " 15  Tryglicerides  282 non-null    float64\n",
      " 16  Platelets      401 non-null    float64\n",
      " 17  Prothrombin    410 non-null    float64\n",
      " 18  Stage          412 non-null    float64\n",
      "dtypes: float64(10), int64(2), object(7)\n",
      "memory usage: 64.4+ KB\n"
     ]
    }
   ],
   "source": [
    "df.info()"
   ]
  },
  {
   "cell_type": "code",
   "execution_count": 8,
   "id": "8b9cc500",
   "metadata": {},
   "outputs": [
    {
     "data": {
      "text/html": [
       "<div>\n",
       "<style scoped>\n",
       "    .dataframe tbody tr th:only-of-type {\n",
       "        vertical-align: middle;\n",
       "    }\n",
       "\n",
       "    .dataframe tbody tr th {\n",
       "        vertical-align: top;\n",
       "    }\n",
       "\n",
       "    .dataframe thead th {\n",
       "        text-align: right;\n",
       "    }\n",
       "</style>\n",
       "<table border=\"1\" class=\"dataframe\">\n",
       "  <thead>\n",
       "    <tr style=\"text-align: right;\">\n",
       "      <th></th>\n",
       "      <th>N_Days</th>\n",
       "      <th>Age</th>\n",
       "      <th>Bilirubin</th>\n",
       "      <th>Cholesterol</th>\n",
       "      <th>Albumin</th>\n",
       "      <th>Copper</th>\n",
       "      <th>Alk_Phos</th>\n",
       "      <th>SGOT</th>\n",
       "      <th>Tryglicerides</th>\n",
       "      <th>Platelets</th>\n",
       "      <th>Prothrombin</th>\n",
       "      <th>Stage</th>\n",
       "    </tr>\n",
       "  </thead>\n",
       "  <tbody>\n",
       "    <tr>\n",
       "      <th>count</th>\n",
       "      <td>412.000000</td>\n",
       "      <td>412.000000</td>\n",
       "      <td>412.000000</td>\n",
       "      <td>284.000000</td>\n",
       "      <td>412.000000</td>\n",
       "      <td>310.000000</td>\n",
       "      <td>312.000000</td>\n",
       "      <td>312.000000</td>\n",
       "      <td>282.000000</td>\n",
       "      <td>401.000000</td>\n",
       "      <td>410.000000</td>\n",
       "      <td>412.000000</td>\n",
       "    </tr>\n",
       "    <tr>\n",
       "      <th>mean</th>\n",
       "      <td>1916.837379</td>\n",
       "      <td>18498.286408</td>\n",
       "      <td>3.227670</td>\n",
       "      <td>369.510563</td>\n",
       "      <td>3.500073</td>\n",
       "      <td>97.648387</td>\n",
       "      <td>1982.655769</td>\n",
       "      <td>122.556346</td>\n",
       "      <td>124.702128</td>\n",
       "      <td>256.102244</td>\n",
       "      <td>10.733415</td>\n",
       "      <td>3.024272</td>\n",
       "    </tr>\n",
       "    <tr>\n",
       "      <th>std</th>\n",
       "      <td>1099.941147</td>\n",
       "      <td>3823.705746</td>\n",
       "      <td>4.429421</td>\n",
       "      <td>231.944545</td>\n",
       "      <td>0.423948</td>\n",
       "      <td>85.613920</td>\n",
       "      <td>2140.388824</td>\n",
       "      <td>56.699525</td>\n",
       "      <td>65.148639</td>\n",
       "      <td>95.750598</td>\n",
       "      <td>1.026557</td>\n",
       "      <td>0.882042</td>\n",
       "    </tr>\n",
       "    <tr>\n",
       "      <th>min</th>\n",
       "      <td>41.000000</td>\n",
       "      <td>9598.000000</td>\n",
       "      <td>0.300000</td>\n",
       "      <td>120.000000</td>\n",
       "      <td>1.960000</td>\n",
       "      <td>4.000000</td>\n",
       "      <td>289.000000</td>\n",
       "      <td>26.350000</td>\n",
       "      <td>33.000000</td>\n",
       "      <td>62.000000</td>\n",
       "      <td>9.000000</td>\n",
       "      <td>1.000000</td>\n",
       "    </tr>\n",
       "    <tr>\n",
       "      <th>25%</th>\n",
       "      <td>1094.250000</td>\n",
       "      <td>15609.250000</td>\n",
       "      <td>0.800000</td>\n",
       "      <td>249.500000</td>\n",
       "      <td>3.247500</td>\n",
       "      <td>41.250000</td>\n",
       "      <td>871.500000</td>\n",
       "      <td>80.600000</td>\n",
       "      <td>84.250000</td>\n",
       "      <td>189.000000</td>\n",
       "      <td>10.000000</td>\n",
       "      <td>2.000000</td>\n",
       "    </tr>\n",
       "    <tr>\n",
       "      <th>50%</th>\n",
       "      <td>1713.500000</td>\n",
       "      <td>18628.000000</td>\n",
       "      <td>1.400000</td>\n",
       "      <td>309.500000</td>\n",
       "      <td>3.530000</td>\n",
       "      <td>73.000000</td>\n",
       "      <td>1259.000000</td>\n",
       "      <td>114.700000</td>\n",
       "      <td>108.000000</td>\n",
       "      <td>249.000000</td>\n",
       "      <td>10.600000</td>\n",
       "      <td>3.000000</td>\n",
       "    </tr>\n",
       "    <tr>\n",
       "      <th>75%</th>\n",
       "      <td>2610.500000</td>\n",
       "      <td>21200.500000</td>\n",
       "      <td>3.400000</td>\n",
       "      <td>400.000000</td>\n",
       "      <td>3.782500</td>\n",
       "      <td>123.000000</td>\n",
       "      <td>1980.000000</td>\n",
       "      <td>151.900000</td>\n",
       "      <td>151.000000</td>\n",
       "      <td>318.000000</td>\n",
       "      <td>11.100000</td>\n",
       "      <td>4.000000</td>\n",
       "    </tr>\n",
       "    <tr>\n",
       "      <th>max</th>\n",
       "      <td>4795.000000</td>\n",
       "      <td>28650.000000</td>\n",
       "      <td>28.000000</td>\n",
       "      <td>1775.000000</td>\n",
       "      <td>4.640000</td>\n",
       "      <td>588.000000</td>\n",
       "      <td>13862.400000</td>\n",
       "      <td>457.250000</td>\n",
       "      <td>598.000000</td>\n",
       "      <td>563.000000</td>\n",
       "      <td>18.000000</td>\n",
       "      <td>4.000000</td>\n",
       "    </tr>\n",
       "  </tbody>\n",
       "</table>\n",
       "</div>"
      ],
      "text/plain": [
       "            N_Days           Age   Bilirubin  Cholesterol     Albumin  \\\n",
       "count   412.000000    412.000000  412.000000   284.000000  412.000000   \n",
       "mean   1916.837379  18498.286408    3.227670   369.510563    3.500073   \n",
       "std    1099.941147   3823.705746    4.429421   231.944545    0.423948   \n",
       "min      41.000000   9598.000000    0.300000   120.000000    1.960000   \n",
       "25%    1094.250000  15609.250000    0.800000   249.500000    3.247500   \n",
       "50%    1713.500000  18628.000000    1.400000   309.500000    3.530000   \n",
       "75%    2610.500000  21200.500000    3.400000   400.000000    3.782500   \n",
       "max    4795.000000  28650.000000   28.000000  1775.000000    4.640000   \n",
       "\n",
       "           Copper      Alk_Phos        SGOT  Tryglicerides   Platelets  \\\n",
       "count  310.000000    312.000000  312.000000     282.000000  401.000000   \n",
       "mean    97.648387   1982.655769  122.556346     124.702128  256.102244   \n",
       "std     85.613920   2140.388824   56.699525      65.148639   95.750598   \n",
       "min      4.000000    289.000000   26.350000      33.000000   62.000000   \n",
       "25%     41.250000    871.500000   80.600000      84.250000  189.000000   \n",
       "50%     73.000000   1259.000000  114.700000     108.000000  249.000000   \n",
       "75%    123.000000   1980.000000  151.900000     151.000000  318.000000   \n",
       "max    588.000000  13862.400000  457.250000     598.000000  563.000000   \n",
       "\n",
       "       Prothrombin       Stage  \n",
       "count   410.000000  412.000000  \n",
       "mean     10.733415    3.024272  \n",
       "std       1.026557    0.882042  \n",
       "min       9.000000    1.000000  \n",
       "25%      10.000000    2.000000  \n",
       "50%      10.600000    3.000000  \n",
       "75%      11.100000    4.000000  \n",
       "max      18.000000    4.000000  "
      ]
     },
     "execution_count": 8,
     "metadata": {},
     "output_type": "execute_result"
    }
   ],
   "source": [
    "df.describe()"
   ]
  },
  {
   "cell_type": "markdown",
   "id": "3541a4bd",
   "metadata": {},
   "source": [
    "## **3.- División de Datos**"
   ]
  },
  {
   "cell_type": "code",
   "execution_count": 9,
   "id": "ae672163",
   "metadata": {},
   "outputs": [],
   "source": [
    "x = df.drop('Stage', axis=1)\n",
    "y = df['Stage']"
   ]
  },
  {
   "cell_type": "code",
   "execution_count": 10,
   "id": "3629dafa",
   "metadata": {},
   "outputs": [],
   "source": [
    "from sklearn.model_selection import train_test_split\n",
    "x_train, x_test, y_train, y_test = train_test_split(x, y, test_size=0.3, random_state=42)"
   ]
  },
  {
   "cell_type": "code",
   "execution_count": 11,
   "id": "bbe52626",
   "metadata": {},
   "outputs": [],
   "source": [
    "x_val, x_test, y_val, y_test = train_test_split(x_test, y_test, test_size=0.2, random_state=42)"
   ]
  },
  {
   "cell_type": "markdown",
   "id": "ae42b8d5",
   "metadata": {},
   "source": [
    "## **4.- Preprocesamiento de datos**"
   ]
  },
  {
   "cell_type": "markdown",
   "id": "61bdea63",
   "metadata": {},
   "source": [
    "En los arboles de desición no es muy necesario mucho preprocesamiend, de hecho muchas veces es peor, asi que no vamos a normalizarlo, pero si codificarlo y imputarlo"
   ]
  },
  {
   "cell_type": "code",
   "execution_count": 12,
   "id": "f8e18635",
   "metadata": {},
   "outputs": [],
   "source": [
    "from sklearn.compose import ColumnTransformer\n",
    "from sklearn.pipeline import Pipeline\n",
    "from sklearn.impute import SimpleImputer\n",
    "from sklearn.preprocessing import OneHotEncoder\n",
    "\n",
    "# Identifica las columnas numéricas y categóricas\n",
    "numeric_features = x_train.select_dtypes(include=['int64', 'float64']).columns\n",
    "categorical_features = x_train.select_dtypes(include=['object']).columns\n",
    "\n",
    "# Define los transformadores\n",
    "numeric_transformer = Pipeline(steps=[\n",
    "    ('imputer', SimpleImputer(strategy='mean'))\n",
    "])\n",
    "\n",
    "categorical_transformer = Pipeline(steps=[\n",
    "    ('imputer', SimpleImputer(strategy='most_frequent')),\n",
    "    ('onehot', OneHotEncoder(handle_unknown='ignore'))\n",
    "])\n",
    "\n",
    "# Crea el preprocesador\n",
    "preprocessor = ColumnTransformer(\n",
    "    transformers=[\n",
    "        ('num', numeric_transformer, numeric_features),\n",
    "        ('cat', categorical_transformer, categorical_features)\n",
    "    ])\n",
    "\n",
    "# Crea el pipeline completo\n",
    "pipeline = Pipeline(steps=[('preprocessor', preprocessor)])"
   ]
  },
  {
   "cell_type": "code",
   "execution_count": 13,
   "id": "010a1bf5",
   "metadata": {},
   "outputs": [],
   "source": [
    "# Aplica el pipeline a tus datos de entrenamiento\n",
    "x_train_prep = pipeline.fit_transform(x_train)\n",
    "x_val_prep = pipeline.transform(x_val)\n",
    "x_test_prep = pipeline.transform(x_test)"
   ]
  },
  {
   "cell_type": "code",
   "execution_count": 14,
   "id": "445c0a98",
   "metadata": {},
   "outputs": [],
   "source": [
    "x_train = pd.DataFrame(x_train_prep, columns=list(pd.get_dummies(x_train)), index=x_train.index)\n",
    "x_val = pd.DataFrame(x_val_prep, columns=list(pd.get_dummies(x_val)), index=x_val.index)\n",
    "x_test = pd.DataFrame(x_test_prep, columns=list(pd.get_dummies(x_val)), index=x_test.index)"
   ]
  },
  {
   "cell_type": "code",
   "execution_count": 15,
   "id": "bc6bffbf",
   "metadata": {
    "scrolled": true
   },
   "outputs": [
    {
     "data": {
      "text/html": [
       "<div>\n",
       "<style scoped>\n",
       "    .dataframe tbody tr th:only-of-type {\n",
       "        vertical-align: middle;\n",
       "    }\n",
       "\n",
       "    .dataframe tbody tr th {\n",
       "        vertical-align: top;\n",
       "    }\n",
       "\n",
       "    .dataframe thead th {\n",
       "        text-align: right;\n",
       "    }\n",
       "</style>\n",
       "<table border=\"1\" class=\"dataframe\">\n",
       "  <thead>\n",
       "    <tr style=\"text-align: right;\">\n",
       "      <th></th>\n",
       "      <th>N_Days</th>\n",
       "      <th>Age</th>\n",
       "      <th>Bilirubin</th>\n",
       "      <th>Cholesterol</th>\n",
       "      <th>Albumin</th>\n",
       "      <th>Copper</th>\n",
       "      <th>Alk_Phos</th>\n",
       "      <th>SGOT</th>\n",
       "      <th>Tryglicerides</th>\n",
       "      <th>Platelets</th>\n",
       "      <th>...</th>\n",
       "      <th>Sex_M</th>\n",
       "      <th>Ascites_N</th>\n",
       "      <th>Ascites_Y</th>\n",
       "      <th>Hepatomegaly_N</th>\n",
       "      <th>Hepatomegaly_Y</th>\n",
       "      <th>Spiders_N</th>\n",
       "      <th>Spiders_Y</th>\n",
       "      <th>Edema_N</th>\n",
       "      <th>Edema_S</th>\n",
       "      <th>Edema_Y</th>\n",
       "    </tr>\n",
       "    <tr>\n",
       "      <th>ID</th>\n",
       "      <th></th>\n",
       "      <th></th>\n",
       "      <th></th>\n",
       "      <th></th>\n",
       "      <th></th>\n",
       "      <th></th>\n",
       "      <th></th>\n",
       "      <th></th>\n",
       "      <th></th>\n",
       "      <th></th>\n",
       "      <th></th>\n",
       "      <th></th>\n",
       "      <th></th>\n",
       "      <th></th>\n",
       "      <th></th>\n",
       "      <th></th>\n",
       "      <th></th>\n",
       "      <th></th>\n",
       "      <th></th>\n",
       "      <th></th>\n",
       "      <th></th>\n",
       "    </tr>\n",
       "  </thead>\n",
       "  <tbody>\n",
       "    <tr>\n",
       "      <th>349</th>\n",
       "      <td>2855.0</td>\n",
       "      <td>19724.0</td>\n",
       "      <td>1.4</td>\n",
       "      <td>387.229167</td>\n",
       "      <td>3.82</td>\n",
       "      <td>95.376744</td>\n",
       "      <td>1872.107407</td>\n",
       "      <td>122.815509</td>\n",
       "      <td>126.315789</td>\n",
       "      <td>249.0</td>\n",
       "      <td>...</td>\n",
       "      <td>0.0</td>\n",
       "      <td>1.0</td>\n",
       "      <td>0.0</td>\n",
       "      <td>1.0</td>\n",
       "      <td>0.0</td>\n",
       "      <td>1.0</td>\n",
       "      <td>0.0</td>\n",
       "      <td>1.0</td>\n",
       "      <td>0.0</td>\n",
       "      <td>0.0</td>\n",
       "    </tr>\n",
       "    <tr>\n",
       "      <th>372</th>\n",
       "      <td>2149.0</td>\n",
       "      <td>13514.0</td>\n",
       "      <td>0.6</td>\n",
       "      <td>387.229167</td>\n",
       "      <td>3.55</td>\n",
       "      <td>95.376744</td>\n",
       "      <td>1872.107407</td>\n",
       "      <td>122.815509</td>\n",
       "      <td>126.315789</td>\n",
       "      <td>248.0</td>\n",
       "      <td>...</td>\n",
       "      <td>0.0</td>\n",
       "      <td>1.0</td>\n",
       "      <td>0.0</td>\n",
       "      <td>1.0</td>\n",
       "      <td>0.0</td>\n",
       "      <td>1.0</td>\n",
       "      <td>0.0</td>\n",
       "      <td>1.0</td>\n",
       "      <td>0.0</td>\n",
       "      <td>0.0</td>\n",
       "    </tr>\n",
       "    <tr>\n",
       "      <th>404</th>\n",
       "      <td>1092.0</td>\n",
       "      <td>14610.0</td>\n",
       "      <td>4.6</td>\n",
       "      <td>387.229167</td>\n",
       "      <td>3.60</td>\n",
       "      <td>95.376744</td>\n",
       "      <td>1872.107407</td>\n",
       "      <td>122.815509</td>\n",
       "      <td>126.315789</td>\n",
       "      <td>337.0</td>\n",
       "      <td>...</td>\n",
       "      <td>0.0</td>\n",
       "      <td>1.0</td>\n",
       "      <td>0.0</td>\n",
       "      <td>1.0</td>\n",
       "      <td>0.0</td>\n",
       "      <td>1.0</td>\n",
       "      <td>0.0</td>\n",
       "      <td>1.0</td>\n",
       "      <td>0.0</td>\n",
       "      <td>0.0</td>\n",
       "    </tr>\n",
       "    <tr>\n",
       "      <th>303</th>\n",
       "      <td>1250.0</td>\n",
       "      <td>22156.0</td>\n",
       "      <td>1.0</td>\n",
       "      <td>372.000000</td>\n",
       "      <td>3.25</td>\n",
       "      <td>108.000000</td>\n",
       "      <td>1190.000000</td>\n",
       "      <td>140.000000</td>\n",
       "      <td>55.000000</td>\n",
       "      <td>248.0</td>\n",
       "      <td>...</td>\n",
       "      <td>0.0</td>\n",
       "      <td>1.0</td>\n",
       "      <td>0.0</td>\n",
       "      <td>0.0</td>\n",
       "      <td>1.0</td>\n",
       "      <td>0.0</td>\n",
       "      <td>1.0</td>\n",
       "      <td>1.0</td>\n",
       "      <td>0.0</td>\n",
       "      <td>0.0</td>\n",
       "    </tr>\n",
       "    <tr>\n",
       "      <th>195</th>\n",
       "      <td>2330.0</td>\n",
       "      <td>10795.0</td>\n",
       "      <td>3.7</td>\n",
       "      <td>347.000000</td>\n",
       "      <td>3.90</td>\n",
       "      <td>76.000000</td>\n",
       "      <td>2544.000000</td>\n",
       "      <td>221.650000</td>\n",
       "      <td>90.000000</td>\n",
       "      <td>129.0</td>\n",
       "      <td>...</td>\n",
       "      <td>0.0</td>\n",
       "      <td>1.0</td>\n",
       "      <td>0.0</td>\n",
       "      <td>0.0</td>\n",
       "      <td>1.0</td>\n",
       "      <td>1.0</td>\n",
       "      <td>0.0</td>\n",
       "      <td>1.0</td>\n",
       "      <td>0.0</td>\n",
       "      <td>0.0</td>\n",
       "    </tr>\n",
       "  </tbody>\n",
       "</table>\n",
       "<p>5 rows × 27 columns</p>\n",
       "</div>"
      ],
      "text/plain": [
       "     N_Days      Age  Bilirubin  Cholesterol  Albumin      Copper  \\\n",
       "ID                                                                  \n",
       "349  2855.0  19724.0        1.4   387.229167     3.82   95.376744   \n",
       "372  2149.0  13514.0        0.6   387.229167     3.55   95.376744   \n",
       "404  1092.0  14610.0        4.6   387.229167     3.60   95.376744   \n",
       "303  1250.0  22156.0        1.0   372.000000     3.25  108.000000   \n",
       "195  2330.0  10795.0        3.7   347.000000     3.90   76.000000   \n",
       "\n",
       "        Alk_Phos        SGOT  Tryglicerides  Platelets  ...  Sex_M  Ascites_N  \\\n",
       "ID                                                      ...                     \n",
       "349  1872.107407  122.815509     126.315789      249.0  ...    0.0        1.0   \n",
       "372  1872.107407  122.815509     126.315789      248.0  ...    0.0        1.0   \n",
       "404  1872.107407  122.815509     126.315789      337.0  ...    0.0        1.0   \n",
       "303  1190.000000  140.000000      55.000000      248.0  ...    0.0        1.0   \n",
       "195  2544.000000  221.650000      90.000000      129.0  ...    0.0        1.0   \n",
       "\n",
       "     Ascites_Y  Hepatomegaly_N  Hepatomegaly_Y  Spiders_N  Spiders_Y  Edema_N  \\\n",
       "ID                                                                              \n",
       "349        0.0             1.0             0.0        1.0        0.0      1.0   \n",
       "372        0.0             1.0             0.0        1.0        0.0      1.0   \n",
       "404        0.0             1.0             0.0        1.0        0.0      1.0   \n",
       "303        0.0             0.0             1.0        0.0        1.0      1.0   \n",
       "195        0.0             0.0             1.0        1.0        0.0      1.0   \n",
       "\n",
       "     Edema_S  Edema_Y  \n",
       "ID                     \n",
       "349      0.0      0.0  \n",
       "372      0.0      0.0  \n",
       "404      0.0      0.0  \n",
       "303      0.0      0.0  \n",
       "195      0.0      0.0  \n",
       "\n",
       "[5 rows x 27 columns]"
      ]
     },
     "execution_count": 15,
     "metadata": {},
     "output_type": "execute_result"
    }
   ],
   "source": [
    "x_train.head()"
   ]
  },
  {
   "cell_type": "code",
   "execution_count": 16,
   "id": "52d05e68",
   "metadata": {},
   "outputs": [
    {
     "data": {
      "text/plain": [
       "0"
      ]
     },
     "execution_count": 16,
     "metadata": {},
     "output_type": "execute_result"
    }
   ],
   "source": [
    "y_train.isnull().sum()"
   ]
  },
  {
   "cell_type": "markdown",
   "id": "f810d00c",
   "metadata": {},
   "source": [
    "## **5.- Entrenamiento**"
   ]
  },
  {
   "cell_type": "code",
   "execution_count": 17,
   "id": "693e1ab2",
   "metadata": {},
   "outputs": [
    {
     "data": {
      "text/html": [
       "<style>#sk-container-id-1 {color: black;background-color: white;}#sk-container-id-1 pre{padding: 0;}#sk-container-id-1 div.sk-toggleable {background-color: white;}#sk-container-id-1 label.sk-toggleable__label {cursor: pointer;display: block;width: 100%;margin-bottom: 0;padding: 0.3em;box-sizing: border-box;text-align: center;}#sk-container-id-1 label.sk-toggleable__label-arrow:before {content: \"▸\";float: left;margin-right: 0.25em;color: #696969;}#sk-container-id-1 label.sk-toggleable__label-arrow:hover:before {color: black;}#sk-container-id-1 div.sk-estimator:hover label.sk-toggleable__label-arrow:before {color: black;}#sk-container-id-1 div.sk-toggleable__content {max-height: 0;max-width: 0;overflow: hidden;text-align: left;background-color: #f0f8ff;}#sk-container-id-1 div.sk-toggleable__content pre {margin: 0.2em;color: black;border-radius: 0.25em;background-color: #f0f8ff;}#sk-container-id-1 input.sk-toggleable__control:checked~div.sk-toggleable__content {max-height: 200px;max-width: 100%;overflow: auto;}#sk-container-id-1 input.sk-toggleable__control:checked~label.sk-toggleable__label-arrow:before {content: \"▾\";}#sk-container-id-1 div.sk-estimator input.sk-toggleable__control:checked~label.sk-toggleable__label {background-color: #d4ebff;}#sk-container-id-1 div.sk-label input.sk-toggleable__control:checked~label.sk-toggleable__label {background-color: #d4ebff;}#sk-container-id-1 input.sk-hidden--visually {border: 0;clip: rect(1px 1px 1px 1px);clip: rect(1px, 1px, 1px, 1px);height: 1px;margin: -1px;overflow: hidden;padding: 0;position: absolute;width: 1px;}#sk-container-id-1 div.sk-estimator {font-family: monospace;background-color: #f0f8ff;border: 1px dotted black;border-radius: 0.25em;box-sizing: border-box;margin-bottom: 0.5em;}#sk-container-id-1 div.sk-estimator:hover {background-color: #d4ebff;}#sk-container-id-1 div.sk-parallel-item::after {content: \"\";width: 100%;border-bottom: 1px solid gray;flex-grow: 1;}#sk-container-id-1 div.sk-label:hover label.sk-toggleable__label {background-color: #d4ebff;}#sk-container-id-1 div.sk-serial::before {content: \"\";position: absolute;border-left: 1px solid gray;box-sizing: border-box;top: 0;bottom: 0;left: 50%;z-index: 0;}#sk-container-id-1 div.sk-serial {display: flex;flex-direction: column;align-items: center;background-color: white;padding-right: 0.2em;padding-left: 0.2em;position: relative;}#sk-container-id-1 div.sk-item {position: relative;z-index: 1;}#sk-container-id-1 div.sk-parallel {display: flex;align-items: stretch;justify-content: center;background-color: white;position: relative;}#sk-container-id-1 div.sk-item::before, #sk-container-id-1 div.sk-parallel-item::before {content: \"\";position: absolute;border-left: 1px solid gray;box-sizing: border-box;top: 0;bottom: 0;left: 50%;z-index: -1;}#sk-container-id-1 div.sk-parallel-item {display: flex;flex-direction: column;z-index: 1;position: relative;background-color: white;}#sk-container-id-1 div.sk-parallel-item:first-child::after {align-self: flex-end;width: 50%;}#sk-container-id-1 div.sk-parallel-item:last-child::after {align-self: flex-start;width: 50%;}#sk-container-id-1 div.sk-parallel-item:only-child::after {width: 0;}#sk-container-id-1 div.sk-dashed-wrapped {border: 1px dashed gray;margin: 0 0.4em 0.5em 0.4em;box-sizing: border-box;padding-bottom: 0.4em;background-color: white;}#sk-container-id-1 div.sk-label label {font-family: monospace;font-weight: bold;display: inline-block;line-height: 1.2em;}#sk-container-id-1 div.sk-label-container {text-align: center;}#sk-container-id-1 div.sk-container {/* jupyter's `normalize.less` sets `[hidden] { display: none; }` but bootstrap.min.css set `[hidden] { display: none !important; }` so we also need the `!important` here to be able to override the default hidden behavior on the sphinx rendered scikit-learn.org. See: https://github.com/scikit-learn/scikit-learn/issues/21755 */display: inline-block !important;position: relative;}#sk-container-id-1 div.sk-text-repr-fallback {display: none;}</style><div id=\"sk-container-id-1\" class=\"sk-top-container\"><div class=\"sk-text-repr-fallback\"><pre>DecisionTreeClassifier(max_depth=3, random_state=42)</pre><b>In a Jupyter environment, please rerun this cell to show the HTML representation or trust the notebook. <br />On GitHub, the HTML representation is unable to render, please try loading this page with nbviewer.org.</b></div><div class=\"sk-container\" hidden><div class=\"sk-item\"><div class=\"sk-estimator sk-toggleable\"><input class=\"sk-toggleable__control sk-hidden--visually\" id=\"sk-estimator-id-1\" type=\"checkbox\" checked><label for=\"sk-estimator-id-1\" class=\"sk-toggleable__label sk-toggleable__label-arrow\">DecisionTreeClassifier</label><div class=\"sk-toggleable__content\"><pre>DecisionTreeClassifier(max_depth=3, random_state=42)</pre></div></div></div></div></div>"
      ],
      "text/plain": [
       "DecisionTreeClassifier(max_depth=3, random_state=42)"
      ]
     },
     "execution_count": 17,
     "metadata": {},
     "output_type": "execute_result"
    }
   ],
   "source": [
    "from sklearn.tree import DecisionTreeClassifier\n",
    "\n",
    "tree_model = DecisionTreeClassifier(max_depth=3, random_state=42)\n",
    "\n",
    "tree_model.fit(x_train, y_train)"
   ]
  },
  {
   "cell_type": "code",
   "execution_count": 18,
   "id": "18c3a373",
   "metadata": {},
   "outputs": [],
   "source": [
    "y_val_pred = tree_model.predict(x_val)\n",
    "y_test_pred = tree_model.predict(x_test)"
   ]
  },
  {
   "cell_type": "markdown",
   "id": "b400f3ad",
   "metadata": {},
   "source": [
    "## **6.- Evaluación**"
   ]
  },
  {
   "cell_type": "code",
   "execution_count": 19,
   "id": "5c06b78f",
   "metadata": {},
   "outputs": [],
   "source": [
    "from sklearn.metrics import accuracy_score, precision_score, recall_score, f1_score, confusion_matrix, roc_auc_score, roc_curve"
   ]
  },
  {
   "cell_type": "code",
   "execution_count": 20,
   "id": "7e14a0f4",
   "metadata": {},
   "outputs": [
    {
     "name": "stdout",
     "output_type": "stream",
     "text": [
      "Accuracy: 0.4242\n"
     ]
    }
   ],
   "source": [
    "# 1. Exactitud (Accuracy)\n",
    "accuracy = accuracy_score(y_val, y_val_pred)\n",
    "print(f'Accuracy: {accuracy:.4f}')"
   ]
  },
  {
   "cell_type": "code",
   "execution_count": 21,
   "id": "c083d072",
   "metadata": {},
   "outputs": [
    {
     "name": "stdout",
     "output_type": "stream",
     "text": [
      "Precision: 0.4242\n"
     ]
    }
   ],
   "source": [
    "# 2. Precisión (Precision)\n",
    "precision = precision_score(y_val, y_val_pred, average='micro')  # Ajustar 'average'\n",
    "print(f'Precision: {precision:.4f}')"
   ]
  },
  {
   "cell_type": "code",
   "execution_count": 22,
   "id": "c7ce6250",
   "metadata": {},
   "outputs": [
    {
     "name": "stdout",
     "output_type": "stream",
     "text": [
      "Recall: 0.4242\n"
     ]
    }
   ],
   "source": [
    "# 3. Recuperación (Recall)\n",
    "recall = recall_score(y_val, y_val_pred, average='micro') \n",
    "print(f'Recall: {recall:.4f}')"
   ]
  },
  {
   "cell_type": "code",
   "execution_count": 23,
   "id": "971166e9",
   "metadata": {},
   "outputs": [
    {
     "name": "stdout",
     "output_type": "stream",
     "text": [
      "F1-Score: 0.4242\n"
     ]
    }
   ],
   "source": [
    "# 4. F1-Score\n",
    "f1 = f1_score(y_val, y_val_pred, average='micro')  \n",
    "print(f'F1-Score: {f1:.4f}')"
   ]
  },
  {
   "cell_type": "code",
   "execution_count": 24,
   "id": "ff5e000a",
   "metadata": {
    "scrolled": true
   },
   "outputs": [
    {
     "name": "stdout",
     "output_type": "stream",
     "text": [
      "Confusion Matrix:\n",
      "[[ 0  4  4  0]\n",
      " [ 0  7 10  4]\n",
      " [ 2 11 19  7]\n",
      " [ 0  3 12 16]]\n"
     ]
    }
   ],
   "source": [
    "# 5. Matriz de Confusión\n",
    "cm = confusion_matrix(y_val, y_val_pred)\n",
    "print(f'Confusion Matrix:\\n{cm}')"
   ]
  },
  {
   "cell_type": "code",
   "execution_count": 25,
   "id": "7b5dd6a7",
   "metadata": {
    "scrolled": false
   },
   "outputs": [
    {
     "data": {
      "image/png": "[encoded data removed]",
      "text/plain": [
       "<Figure size 800x600 with 1 Axes>"
      ]
     },
     "metadata": {},
     "output_type": "display_data"
    }
   ],
   "source": [
    "# Plotea el mapa de calor\n",
    "plt.figure(figsize=(8, 6))\n",
    "sns.heatmap(cm, annot=True, fmt=\"d\", cmap=\"Blues\", cbar=False)\n",
    "plt.title('Matriz de Confusión')\n",
    "plt.xlabel('Predicciones')\n",
    "plt.ylabel('Valores Verdaderos')\n",
    "plt.show()"
   ]
  },
  {
   "cell_type": "markdown",
   "id": "bed6e181",
   "metadata": {},
   "source": [
    "Ahora con x_test:"
   ]
  },
  {
   "cell_type": "code",
   "execution_count": 26,
   "id": "bfab8255",
   "metadata": {},
   "outputs": [
    {
     "name": "stdout",
     "output_type": "stream",
     "text": [
      "Accuracy: 0.4400\n"
     ]
    }
   ],
   "source": [
    "# 1. Exactitud (Accuracy)\n",
    "accuracy = accuracy_score(y_test, y_test_pred)\n",
    "print(f'Accuracy: {accuracy:.4f}')"
   ]
  },
  {
   "cell_type": "code",
   "execution_count": 27,
   "id": "49dc7291",
   "metadata": {},
   "outputs": [
    {
     "name": "stdout",
     "output_type": "stream",
     "text": [
      "Precision: 0.4400\n"
     ]
    }
   ],
   "source": [
    "# 2. Precisión (Precision)\n",
    "precision = precision_score(y_test, y_test_pred, average='micro')  # Ajustar 'average'\n",
    "print(f'Precision: {precision:.4f}')"
   ]
  },
  {
   "cell_type": "code",
   "execution_count": 28,
   "id": "8697d9a8",
   "metadata": {},
   "outputs": [
    {
     "name": "stdout",
     "output_type": "stream",
     "text": [
      "Recall: 0.4400\n"
     ]
    }
   ],
   "source": [
    "# 3. Recuperación (Recall)\n",
    "recall = recall_score(y_test, y_test_pred, average='micro') \n",
    "print(f'Recall: {recall:.4f}')"
   ]
  },
  {
   "cell_type": "code",
   "execution_count": 29,
   "id": "b3b13585",
   "metadata": {},
   "outputs": [
    {
     "name": "stdout",
     "output_type": "stream",
     "text": [
      "F1-Score: 0.4400\n"
     ]
    }
   ],
   "source": [
    "# 4. F1-Score\n",
    "f1 = f1_score(y_test, y_test_pred, average='micro')  \n",
    "print(f'F1-Score: {f1:.4f}')"
   ]
  },
  {
   "cell_type": "code",
   "execution_count": 30,
   "id": "2f31a00e",
   "metadata": {},
   "outputs": [
    {
     "name": "stdout",
     "output_type": "stream",
     "text": [
      "Confusion Matrix:\n",
      "[[ 0  4  4  0]\n",
      " [ 0  7 10  4]\n",
      " [ 2 11 19  7]\n",
      " [ 0  3 12 16]]\n"
     ]
    }
   ],
   "source": [
    "# 5. Matriz de Confusión\n",
    "cm2 = confusion_matrix(y_test, y_test_pred)\n",
    "print(f'Confusion Matrix:\\n{cm}')"
   ]
  },
  {
   "cell_type": "code",
   "execution_count": 31,
   "id": "1171aab9",
   "metadata": {},
   "outputs": [
    {
     "data": {
      "image/png": "[encoded data removed]",
      "text/plain": [
       "<Figure size 800x600 with 1 Axes>"
      ]
     },
     "metadata": {},
     "output_type": "display_data"
    }
   ],
   "source": [
    "plt.figure(figsize=(8, 6))\n",
    "sns.heatmap(cm2, annot=True, fmt=\"d\", cmap=\"Blues\", cbar=False)\n",
    "plt.title('Matriz de Confusión (Conjunto de Prueba)')\n",
    "plt.xlabel('Predicciones')\n",
    "plt.ylabel('Valores Verdaderos')\n",
    "plt.show()"
   ]
  },
  {
   "cell_type": "code",
   "execution_count": null,
   "id": "e8bf80ad",
   "metadata": {},
   "outputs": [],
   "source": []
  }
 ],
 "metadata": {
  "kernelspec": {
   "display_name": "Python 3 (ipykernel)",
   "language": "python",
   "name": "python3"
  },
  "language_info": {
   "codemirror_mode": {
    "name": "ipython",
    "version": 3
   },
   "file_extension": ".py",
   "mimetype": "text/x-python",
   "name": "python",
   "nbconvert_exporter": "python",
   "pygments_lexer": "ipython3",
   "version": "3.11.5"
  }
 },
 "nbformat": 4,
 "nbformat_minor": 5
}
